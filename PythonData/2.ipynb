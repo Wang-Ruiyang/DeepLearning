{
 "cells": [
  {
   "cell_type": "code",
   "execution_count": 1,
   "outputs": [],
   "source": [
    "import numpy as np"
   ],
   "metadata": {
    "collapsed": false,
    "pycharm": {
     "name": "#%%\n"
    }
   }
  },
  {
   "cell_type": "code",
   "execution_count": 2,
   "outputs": [],
   "source": [
    "my_arr = np.arange(1000000)"
   ],
   "metadata": {
    "collapsed": false,
    "pycharm": {
     "name": "#%%\n"
    }
   }
  },
  {
   "cell_type": "code",
   "execution_count": 3,
   "outputs": [],
   "source": [
    "my_list = list(range(1000000))"
   ],
   "metadata": {
    "collapsed": false,
    "pycharm": {
     "name": "#%%\n"
    }
   }
  },
  {
   "cell_type": "code",
   "execution_count": 4,
   "outputs": [
    {
     "name": "stdout",
     "output_type": "stream",
     "text": [
      "CPU times: total: 15.6 ms\n",
      "Wall time: 17 ms\n"
     ]
    }
   ],
   "source": [
    "%time for _ in range(10): my_arr2 = my_arr * 2"
   ],
   "metadata": {
    "collapsed": false,
    "pycharm": {
     "name": "#%%\n"
    }
   }
  },
  {
   "cell_type": "code",
   "execution_count": 5,
   "outputs": [
    {
     "name": "stdout",
     "output_type": "stream",
     "text": [
      "CPU times: total: 906 ms\n",
      "Wall time: 972 ms\n"
     ]
    }
   ],
   "source": [
    "%time for _ in range(10): my_list2 = [x * 2 for x in my_list]"
   ],
   "metadata": {
    "collapsed": false,
    "pycharm": {
     "name": "#%%\n"
    }
   }
  },
  {
   "cell_type": "code",
   "execution_count": 6,
   "outputs": [],
   "source": [
    "import numpy as np"
   ],
   "metadata": {
    "collapsed": false,
    "pycharm": {
     "name": "#%%\n"
    }
   }
  },
  {
   "cell_type": "code",
   "execution_count": 7,
   "outputs": [],
   "source": [
    "data = np.random.randn(2,3)   #生成2*3的随机数列"
   ],
   "metadata": {
    "collapsed": false,
    "pycharm": {
     "name": "#%%\n"
    }
   }
  },
  {
   "cell_type": "code",
   "execution_count": 8,
   "outputs": [
    {
     "data": {
      "text/plain": "array([[-0.84326838, -0.90580542, -1.48725473],\n       [ 1.00565928, -0.54263066, -1.83022941]])"
     },
     "execution_count": 8,
     "metadata": {},
     "output_type": "execute_result"
    }
   ],
   "source": [
    "data"
   ],
   "metadata": {
    "collapsed": false,
    "pycharm": {
     "name": "#%%\n"
    }
   }
  },
  {
   "cell_type": "code",
   "execution_count": 9,
   "outputs": [
    {
     "data": {
      "text/plain": "array([[ -8.43268375,  -9.05805415, -14.8725473 ],\n       [ 10.05659279,  -5.42630658, -18.30229411]])"
     },
     "execution_count": 9,
     "metadata": {},
     "output_type": "execute_result"
    }
   ],
   "source": [
    "data * 10"
   ],
   "metadata": {
    "collapsed": false,
    "pycharm": {
     "name": "#%%\n"
    }
   }
  },
  {
   "cell_type": "code",
   "execution_count": 10,
   "outputs": [
    {
     "data": {
      "text/plain": "array([[-1.68653675, -1.81161083, -2.97450946],\n       [ 2.01131856, -1.08526132, -3.66045882]])"
     },
     "execution_count": 10,
     "metadata": {},
     "output_type": "execute_result"
    }
   ],
   "source": [
    "data + data"
   ],
   "metadata": {
    "collapsed": false,
    "pycharm": {
     "name": "#%%\n"
    }
   }
  },
  {
   "cell_type": "code",
   "execution_count": 11,
   "outputs": [
    {
     "data": {
      "text/plain": "(2, 3)"
     },
     "execution_count": 11,
     "metadata": {},
     "output_type": "execute_result"
    }
   ],
   "source": [
    "data.shape"
   ],
   "metadata": {
    "collapsed": false,
    "pycharm": {
     "name": "#%%\n"
    }
   }
  },
  {
   "cell_type": "code",
   "execution_count": 12,
   "outputs": [
    {
     "data": {
      "text/plain": "dtype('float64')"
     },
     "execution_count": 12,
     "metadata": {},
     "output_type": "execute_result"
    }
   ],
   "source": [
    "data.dtype"
   ],
   "metadata": {
    "collapsed": false,
    "pycharm": {
     "name": "#%%\n"
    }
   }
  },
  {
   "cell_type": "code",
   "execution_count": 13,
   "outputs": [],
   "source": [
    "data1 = [6, 7.5, 8, 0, 1]"
   ],
   "metadata": {
    "collapsed": false,
    "pycharm": {
     "name": "#%%\n"
    }
   }
  },
  {
   "cell_type": "code",
   "execution_count": 14,
   "outputs": [],
   "source": [
    "arr1 = np.array(data1)"
   ],
   "metadata": {
    "collapsed": false,
    "pycharm": {
     "name": "#%%\n"
    }
   }
  },
  {
   "cell_type": "code",
   "execution_count": 15,
   "outputs": [
    {
     "data": {
      "text/plain": "array([6. , 7.5, 8. , 0. , 1. ])"
     },
     "execution_count": 15,
     "metadata": {},
     "output_type": "execute_result"
    }
   ],
   "source": [
    "arr1"
   ],
   "metadata": {
    "collapsed": false,
    "pycharm": {
     "name": "#%%\n"
    }
   }
  },
  {
   "cell_type": "code",
   "execution_count": 16,
   "outputs": [],
   "source": [
    "data2 = [[1,2,3,4],[5,6,7,8]]"
   ],
   "metadata": {
    "collapsed": false,
    "pycharm": {
     "name": "#%%\n"
    }
   }
  },
  {
   "cell_type": "code",
   "execution_count": 17,
   "outputs": [],
   "source": [
    "arr2 = np.array(data2)"
   ],
   "metadata": {
    "collapsed": false,
    "pycharm": {
     "name": "#%%\n"
    }
   }
  },
  {
   "cell_type": "code",
   "execution_count": 18,
   "outputs": [
    {
     "data": {
      "text/plain": "array([[1, 2, 3, 4],\n       [5, 6, 7, 8]])"
     },
     "execution_count": 18,
     "metadata": {},
     "output_type": "execute_result"
    }
   ],
   "source": [
    "arr2"
   ],
   "metadata": {
    "collapsed": false,
    "pycharm": {
     "name": "#%%\n"
    }
   }
  },
  {
   "cell_type": "code",
   "execution_count": 19,
   "outputs": [
    {
     "data": {
      "text/plain": "2"
     },
     "execution_count": 19,
     "metadata": {},
     "output_type": "execute_result"
    }
   ],
   "source": [
    "arr2.ndim"
   ],
   "metadata": {
    "collapsed": false,
    "pycharm": {
     "name": "#%%\n"
    }
   }
  },
  {
   "cell_type": "code",
   "execution_count": 20,
   "outputs": [
    {
     "data": {
      "text/plain": "(2, 4)"
     },
     "execution_count": 20,
     "metadata": {},
     "output_type": "execute_result"
    }
   ],
   "source": [
    "arr2.shape"
   ],
   "metadata": {
    "collapsed": false,
    "pycharm": {
     "name": "#%%\n"
    }
   }
  },
  {
   "cell_type": "code",
   "execution_count": 21,
   "outputs": [
    {
     "data": {
      "text/plain": "array([0., 0., 0., 0., 0., 0., 0., 0., 0., 0.])"
     },
     "execution_count": 21,
     "metadata": {},
     "output_type": "execute_result"
    }
   ],
   "source": [
    "np.zeros(10)"
   ],
   "metadata": {
    "collapsed": false,
    "pycharm": {
     "name": "#%%\n"
    }
   }
  },
  {
   "cell_type": "code",
   "execution_count": 22,
   "outputs": [
    {
     "data": {
      "text/plain": "array([[0., 0., 0., 0., 0., 0.],\n       [0., 0., 0., 0., 0., 0.],\n       [0., 0., 0., 0., 0., 0.]])"
     },
     "execution_count": 22,
     "metadata": {},
     "output_type": "execute_result"
    }
   ],
   "source": [
    "np.zeros((3,6))"
   ],
   "metadata": {
    "collapsed": false,
    "pycharm": {
     "name": "#%%\n"
    }
   }
  },
  {
   "cell_type": "code",
   "execution_count": 23,
   "outputs": [
    {
     "data": {
      "text/plain": "array([[[1.01370331e-311, 2.47032823e-322],\n        [0.00000000e+000, 0.00000000e+000],\n        [1.42419937e-306, 8.60952352e-072]],\n\n       [[7.42380628e-091, 1.83119741e-076],\n        [3.55095879e-062, 5.69755433e-066],\n        [3.99910963e+252, 5.82471487e+257]]])"
     },
     "execution_count": 23,
     "metadata": {},
     "output_type": "execute_result"
    }
   ],
   "source": [
    "np.empty((2,3,2))"
   ],
   "metadata": {
    "collapsed": false,
    "pycharm": {
     "name": "#%%\n"
    }
   }
  },
  {
   "cell_type": "code",
   "execution_count": 24,
   "outputs": [
    {
     "data": {
      "text/plain": "array([ 0,  1,  2,  3,  4,  5,  6,  7,  8,  9, 10, 11, 12, 13, 14])"
     },
     "execution_count": 24,
     "metadata": {},
     "output_type": "execute_result"
    }
   ],
   "source": [
    "np.arange(15)"
   ],
   "metadata": {
    "collapsed": false,
    "pycharm": {
     "name": "#%%\n"
    }
   }
  },
  {
   "cell_type": "code",
   "execution_count": 25,
   "outputs": [],
   "source": [
    "arr1 = np.array([1, 2, 3], dtype=np.float64)"
   ],
   "metadata": {
    "collapsed": false,
    "pycharm": {
     "name": "#%%\n"
    }
   }
  },
  {
   "cell_type": "code",
   "execution_count": 26,
   "outputs": [],
   "source": [
    "arr2 = np.array([1, 2, 3], dtype=np.int32)"
   ],
   "metadata": {
    "collapsed": false,
    "pycharm": {
     "name": "#%%\n"
    }
   }
  },
  {
   "cell_type": "code",
   "execution_count": 27,
   "outputs": [
    {
     "data": {
      "text/plain": "dtype('float64')"
     },
     "execution_count": 27,
     "metadata": {},
     "output_type": "execute_result"
    }
   ],
   "source": [
    "arr1.dtype"
   ],
   "metadata": {
    "collapsed": false,
    "pycharm": {
     "name": "#%%\n"
    }
   }
  },
  {
   "cell_type": "code",
   "execution_count": 28,
   "outputs": [
    {
     "data": {
      "text/plain": "dtype('int32')"
     },
     "execution_count": 28,
     "metadata": {},
     "output_type": "execute_result"
    }
   ],
   "source": [
    "arr2.dtype"
   ],
   "metadata": {
    "collapsed": false,
    "pycharm": {
     "name": "#%%\n"
    }
   }
  },
  {
   "cell_type": "code",
   "execution_count": 29,
   "outputs": [],
   "source": [
    "arr = np.array([1, 2, 3, 4, 5])"
   ],
   "metadata": {
    "collapsed": false,
    "pycharm": {
     "name": "#%%\n"
    }
   }
  },
  {
   "cell_type": "code",
   "execution_count": 30,
   "outputs": [
    {
     "data": {
      "text/plain": "dtype('int32')"
     },
     "execution_count": 30,
     "metadata": {},
     "output_type": "execute_result"
    }
   ],
   "source": [
    "arr.dtype"
   ],
   "metadata": {
    "collapsed": false,
    "pycharm": {
     "name": "#%%\n"
    }
   }
  },
  {
   "cell_type": "code",
   "execution_count": 31,
   "outputs": [],
   "source": [
    "float_arr = arr.astype(np.float64)"
   ],
   "metadata": {
    "collapsed": false,
    "pycharm": {
     "name": "#%%\n"
    }
   }
  },
  {
   "cell_type": "code",
   "execution_count": 32,
   "outputs": [
    {
     "data": {
      "text/plain": "array([1., 2., 3., 4., 5.])"
     },
     "execution_count": 32,
     "metadata": {},
     "output_type": "execute_result"
    }
   ],
   "source": [
    "float_arr"
   ],
   "metadata": {
    "collapsed": false,
    "pycharm": {
     "name": "#%%\n"
    }
   }
  },
  {
   "cell_type": "code",
   "execution_count": 33,
   "outputs": [
    {
     "data": {
      "text/plain": "dtype('float64')"
     },
     "execution_count": 33,
     "metadata": {},
     "output_type": "execute_result"
    }
   ],
   "source": [
    "float_arr.dtype"
   ],
   "metadata": {
    "collapsed": false,
    "pycharm": {
     "name": "#%%\n"
    }
   }
  },
  {
   "cell_type": "code",
   "execution_count": 34,
   "outputs": [],
   "source": [
    "arr = np.array([3.7, -1.2, -2.6, 0.5, 12.9, 10.1])"
   ],
   "metadata": {
    "collapsed": false,
    "pycharm": {
     "name": "#%%\n"
    }
   }
  },
  {
   "cell_type": "code",
   "execution_count": 35,
   "outputs": [
    {
     "data": {
      "text/plain": "array([ 3.7, -1.2, -2.6,  0.5, 12.9, 10.1])"
     },
     "execution_count": 35,
     "metadata": {},
     "output_type": "execute_result"
    }
   ],
   "source": [
    "arr"
   ],
   "metadata": {
    "collapsed": false,
    "pycharm": {
     "name": "#%%\n"
    }
   }
  },
  {
   "cell_type": "code",
   "execution_count": 36,
   "outputs": [
    {
     "data": {
      "text/plain": "array([ 3, -1, -2,  0, 12, 10])"
     },
     "execution_count": 36,
     "metadata": {},
     "output_type": "execute_result"
    }
   ],
   "source": [
    "arr.astype(np.int32)"
   ],
   "metadata": {
    "collapsed": false,
    "pycharm": {
     "name": "#%%\n"
    }
   }
  },
  {
   "cell_type": "code",
   "execution_count": 37,
   "outputs": [],
   "source": [
    "numeric_strings = np.array(['1.25', '-9.6', '42'], dtype=np.string_)"
   ],
   "metadata": {
    "collapsed": false,
    "pycharm": {
     "name": "#%%\n"
    }
   }
  },
  {
   "cell_type": "code",
   "execution_count": 38,
   "outputs": [
    {
     "data": {
      "text/plain": "array([ 1.25, -9.6 , 42.  ])"
     },
     "execution_count": 38,
     "metadata": {},
     "output_type": "execute_result"
    }
   ],
   "source": [
    "numeric_strings.astype(float)"
   ],
   "metadata": {
    "collapsed": false,
    "pycharm": {
     "name": "#%%\n"
    }
   }
  },
  {
   "cell_type": "code",
   "execution_count": 39,
   "outputs": [],
   "source": [
    "import numpy as np"
   ],
   "metadata": {
    "collapsed": false,
    "pycharm": {
     "name": "#%%\n"
    }
   }
  },
  {
   "cell_type": "code",
   "execution_count": 40,
   "outputs": [],
   "source": [
    "arr = np.array([[1.,2.,3.],[4.,5.,6.]])"
   ],
   "metadata": {
    "collapsed": false,
    "pycharm": {
     "name": "#%%\n"
    }
   }
  },
  {
   "cell_type": "code",
   "execution_count": 41,
   "outputs": [
    {
     "data": {
      "text/plain": "array([[1., 2., 3.],\n       [4., 5., 6.]])"
     },
     "execution_count": 41,
     "metadata": {},
     "output_type": "execute_result"
    }
   ],
   "source": [
    "arr"
   ],
   "metadata": {
    "collapsed": false,
    "pycharm": {
     "name": "#%%\n"
    }
   }
  },
  {
   "cell_type": "code",
   "execution_count": 42,
   "outputs": [
    {
     "data": {
      "text/plain": "array([[ 1.,  4.,  9.],\n       [16., 25., 36.]])"
     },
     "execution_count": 42,
     "metadata": {},
     "output_type": "execute_result"
    }
   ],
   "source": [
    "arr * arr"
   ],
   "metadata": {
    "collapsed": false,
    "pycharm": {
     "name": "#%%\n"
    }
   }
  },
  {
   "cell_type": "code",
   "execution_count": 43,
   "outputs": [
    {
     "data": {
      "text/plain": "array([[0., 0., 0.],\n       [0., 0., 0.]])"
     },
     "execution_count": 43,
     "metadata": {},
     "output_type": "execute_result"
    }
   ],
   "source": [
    "arr - arr"
   ],
   "metadata": {
    "collapsed": false,
    "pycharm": {
     "name": "#%%\n"
    }
   }
  },
  {
   "cell_type": "code",
   "execution_count": 44,
   "outputs": [
    {
     "data": {
      "text/plain": "array([[1., 2., 3.],\n       [4., 5., 6.]])"
     },
     "execution_count": 44,
     "metadata": {},
     "output_type": "execute_result"
    }
   ],
   "source": [
    "arr"
   ],
   "metadata": {
    "collapsed": false,
    "pycharm": {
     "name": "#%%\n"
    }
   }
  },
  {
   "cell_type": "code",
   "execution_count": 45,
   "outputs": [
    {
     "data": {
      "text/plain": "array([[1.        , 0.5       , 0.33333333],\n       [0.25      , 0.2       , 0.16666667]])"
     },
     "execution_count": 45,
     "metadata": {},
     "output_type": "execute_result"
    }
   ],
   "source": [
    "1 / arr"
   ],
   "metadata": {
    "collapsed": false,
    "pycharm": {
     "name": "#%%\n"
    }
   }
  },
  {
   "cell_type": "code",
   "execution_count": 46,
   "outputs": [
    {
     "data": {
      "text/plain": "array([[1.        , 1.41421356, 1.73205081],\n       [2.        , 2.23606798, 2.44948974]])"
     },
     "execution_count": 46,
     "metadata": {},
     "output_type": "execute_result"
    }
   ],
   "source": [
    "arr ** 0.5"
   ],
   "metadata": {
    "collapsed": false,
    "pycharm": {
     "name": "#%%\n"
    }
   }
  },
  {
   "cell_type": "code",
   "execution_count": 47,
   "outputs": [],
   "source": [
    "arr2 = np.array([[0., 4., 1.], [7., 2., 12.]])"
   ],
   "metadata": {
    "collapsed": false,
    "pycharm": {
     "name": "#%%\n"
    }
   }
  },
  {
   "cell_type": "code",
   "execution_count": 48,
   "outputs": [
    {
     "data": {
      "text/plain": "array([[ 0.,  4.,  1.],\n       [ 7.,  2., 12.]])"
     },
     "execution_count": 48,
     "metadata": {},
     "output_type": "execute_result"
    }
   ],
   "source": [
    "arr2"
   ],
   "metadata": {
    "collapsed": false,
    "pycharm": {
     "name": "#%%\n"
    }
   }
  },
  {
   "cell_type": "code",
   "execution_count": 49,
   "outputs": [
    {
     "data": {
      "text/plain": "array([[1., 2., 3.],\n       [4., 5., 6.]])"
     },
     "execution_count": 49,
     "metadata": {},
     "output_type": "execute_result"
    }
   ],
   "source": [
    "arr"
   ],
   "metadata": {
    "collapsed": false,
    "pycharm": {
     "name": "#%%\n"
    }
   }
  },
  {
   "cell_type": "code",
   "execution_count": 50,
   "outputs": [
    {
     "data": {
      "text/plain": "array([[False,  True, False],\n       [ True, False,  True]])"
     },
     "execution_count": 50,
     "metadata": {},
     "output_type": "execute_result"
    }
   ],
   "source": [
    "arr2 > arr"
   ],
   "metadata": {
    "collapsed": false,
    "pycharm": {
     "name": "#%%\n"
    }
   }
  },
  {
   "cell_type": "code",
   "execution_count": 51,
   "outputs": [],
   "source": [
    "arr = np.arange(10)"
   ],
   "metadata": {
    "collapsed": false,
    "pycharm": {
     "name": "#%%\n"
    }
   }
  },
  {
   "cell_type": "code",
   "execution_count": 52,
   "outputs": [
    {
     "data": {
      "text/plain": "array([0, 1, 2, 3, 4, 5, 6, 7, 8, 9])"
     },
     "execution_count": 52,
     "metadata": {},
     "output_type": "execute_result"
    }
   ],
   "source": [
    "arr"
   ],
   "metadata": {
    "collapsed": false,
    "pycharm": {
     "name": "#%%\n"
    }
   }
  },
  {
   "cell_type": "code",
   "execution_count": 53,
   "outputs": [
    {
     "data": {
      "text/plain": "5"
     },
     "execution_count": 53,
     "metadata": {},
     "output_type": "execute_result"
    }
   ],
   "source": [
    "arr[5]"
   ],
   "metadata": {
    "collapsed": false,
    "pycharm": {
     "name": "#%%\n"
    }
   }
  },
  {
   "cell_type": "code",
   "execution_count": 54,
   "outputs": [
    {
     "data": {
      "text/plain": "array([5, 6, 7])"
     },
     "execution_count": 54,
     "metadata": {},
     "output_type": "execute_result"
    }
   ],
   "source": [
    "arr[5:8]"
   ],
   "metadata": {
    "collapsed": false,
    "pycharm": {
     "name": "#%%\n"
    }
   }
  },
  {
   "cell_type": "code",
   "execution_count": 55,
   "outputs": [],
   "source": [
    "arr[5:8] = 12"
   ],
   "metadata": {
    "collapsed": false,
    "pycharm": {
     "name": "#%%\n"
    }
   }
  },
  {
   "cell_type": "code",
   "execution_count": 56,
   "outputs": [
    {
     "data": {
      "text/plain": "array([ 0,  1,  2,  3,  4, 12, 12, 12,  8,  9])"
     },
     "execution_count": 56,
     "metadata": {},
     "output_type": "execute_result"
    }
   ],
   "source": [
    "arr"
   ],
   "metadata": {
    "collapsed": false,
    "pycharm": {
     "name": "#%%\n"
    }
   }
  },
  {
   "cell_type": "code",
   "execution_count": 57,
   "outputs": [],
   "source": [
    "arr_slice = arr[5:8]"
   ],
   "metadata": {
    "collapsed": false,
    "pycharm": {
     "name": "#%%\n"
    }
   }
  },
  {
   "cell_type": "code",
   "execution_count": 58,
   "outputs": [
    {
     "data": {
      "text/plain": "array([12, 12, 12])"
     },
     "execution_count": 58,
     "metadata": {},
     "output_type": "execute_result"
    }
   ],
   "source": [
    "arr_slice"
   ],
   "metadata": {
    "collapsed": false,
    "pycharm": {
     "name": "#%%\n"
    }
   }
  },
  {
   "cell_type": "code",
   "execution_count": 59,
   "outputs": [],
   "source": [
    "arr_slice[1] = 12345"
   ],
   "metadata": {
    "collapsed": false,
    "pycharm": {
     "name": "#%%\n"
    }
   }
  },
  {
   "cell_type": "code",
   "execution_count": 60,
   "outputs": [
    {
     "data": {
      "text/plain": "array([    0,     1,     2,     3,     4,    12, 12345,    12,     8,\n           9])"
     },
     "execution_count": 60,
     "metadata": {},
     "output_type": "execute_result"
    }
   ],
   "source": [
    "arr"
   ],
   "metadata": {
    "collapsed": false,
    "pycharm": {
     "name": "#%%\n"
    }
   }
  },
  {
   "cell_type": "code",
   "execution_count": 61,
   "outputs": [],
   "source": [
    "arr_slice[:] = 64"
   ],
   "metadata": {
    "collapsed": false,
    "pycharm": {
     "name": "#%%\n"
    }
   }
  },
  {
   "cell_type": "code",
   "execution_count": 62,
   "outputs": [
    {
     "data": {
      "text/plain": "array([ 0,  1,  2,  3,  4, 64, 64, 64,  8,  9])"
     },
     "execution_count": 62,
     "metadata": {},
     "output_type": "execute_result"
    }
   ],
   "source": [
    "arr"
   ],
   "metadata": {
    "collapsed": false,
    "pycharm": {
     "name": "#%%\n"
    }
   }
  },
  {
   "cell_type": "code",
   "execution_count": 63,
   "outputs": [],
   "source": [
    "arr2d = np.array([[1,2,3],[4,5,6],[7,8,9]])"
   ],
   "metadata": {
    "collapsed": false,
    "pycharm": {
     "name": "#%%\n"
    }
   }
  },
  {
   "cell_type": "code",
   "execution_count": 64,
   "outputs": [
    {
     "data": {
      "text/plain": "array([7, 8, 9])"
     },
     "execution_count": 64,
     "metadata": {},
     "output_type": "execute_result"
    }
   ],
   "source": [
    "arr2d[2]"
   ],
   "metadata": {
    "collapsed": false,
    "pycharm": {
     "name": "#%%\n"
    }
   }
  },
  {
   "cell_type": "code",
   "execution_count": 65,
   "outputs": [
    {
     "data": {
      "text/plain": "3"
     },
     "execution_count": 65,
     "metadata": {},
     "output_type": "execute_result"
    }
   ],
   "source": [
    "arr2d[0][2]"
   ],
   "metadata": {
    "collapsed": false,
    "pycharm": {
     "name": "#%%\n"
    }
   }
  },
  {
   "cell_type": "code",
   "execution_count": 66,
   "outputs": [
    {
     "data": {
      "text/plain": "3"
     },
     "execution_count": 66,
     "metadata": {},
     "output_type": "execute_result"
    }
   ],
   "source": [
    "arr2d[0,2]"
   ],
   "metadata": {
    "collapsed": false,
    "pycharm": {
     "name": "#%%\n"
    }
   }
  },
  {
   "cell_type": "code",
   "execution_count": 67,
   "outputs": [],
   "source": [
    "arr3d = np.array([[[1, 2, 3], [4, 5, 6]], [[7, 8, 9], [10, 11, 12]]])"
   ],
   "metadata": {
    "collapsed": false,
    "pycharm": {
     "name": "#%%\n"
    }
   }
  },
  {
   "cell_type": "code",
   "execution_count": 68,
   "outputs": [
    {
     "data": {
      "text/plain": "array([[[ 1,  2,  3],\n        [ 4,  5,  6]],\n\n       [[ 7,  8,  9],\n        [10, 11, 12]]])"
     },
     "execution_count": 68,
     "metadata": {},
     "output_type": "execute_result"
    }
   ],
   "source": [
    "arr3d"
   ],
   "metadata": {
    "collapsed": false,
    "pycharm": {
     "name": "#%%\n"
    }
   }
  },
  {
   "cell_type": "code",
   "execution_count": 69,
   "outputs": [
    {
     "data": {
      "text/plain": "array([[1, 2, 3],\n       [4, 5, 6]])"
     },
     "execution_count": 69,
     "metadata": {},
     "output_type": "execute_result"
    }
   ],
   "source": [
    "arr3d[0]"
   ],
   "metadata": {
    "collapsed": false,
    "pycharm": {
     "name": "#%%\n"
    }
   }
  },
  {
   "cell_type": "code",
   "execution_count": 70,
   "outputs": [],
   "source": [
    "old_values = arr3d[0].copy()    #真正的赋值，而不是新视图"
   ],
   "metadata": {
    "collapsed": false,
    "pycharm": {
     "name": "#%%\n"
    }
   }
  },
  {
   "cell_type": "code",
   "execution_count": 71,
   "outputs": [],
   "source": [
    "arr3d[0] = 42"
   ],
   "metadata": {
    "collapsed": false,
    "pycharm": {
     "name": "#%%\n"
    }
   }
  },
  {
   "cell_type": "code",
   "execution_count": 72,
   "outputs": [
    {
     "data": {
      "text/plain": "array([[[42, 42, 42],\n        [42, 42, 42]],\n\n       [[ 7,  8,  9],\n        [10, 11, 12]]])"
     },
     "execution_count": 72,
     "metadata": {},
     "output_type": "execute_result"
    }
   ],
   "source": [
    "arr3d"
   ],
   "metadata": {
    "collapsed": false,
    "pycharm": {
     "name": "#%%\n"
    }
   }
  },
  {
   "cell_type": "code",
   "execution_count": 73,
   "outputs": [],
   "source": [
    "arr3d[0] = old_values"
   ],
   "metadata": {
    "collapsed": false,
    "pycharm": {
     "name": "#%%\n"
    }
   }
  },
  {
   "cell_type": "code",
   "execution_count": 74,
   "outputs": [
    {
     "data": {
      "text/plain": "array([[[ 1,  2,  3],\n        [ 4,  5,  6]],\n\n       [[ 7,  8,  9],\n        [10, 11, 12]]])"
     },
     "execution_count": 74,
     "metadata": {},
     "output_type": "execute_result"
    }
   ],
   "source": [
    "arr3d"
   ],
   "metadata": {
    "collapsed": false,
    "pycharm": {
     "name": "#%%\n"
    }
   }
  },
  {
   "cell_type": "code",
   "execution_count": 75,
   "outputs": [
    {
     "data": {
      "text/plain": "array([7, 8, 9])"
     },
     "execution_count": 75,
     "metadata": {},
     "output_type": "execute_result"
    }
   ],
   "source": [
    "arr3d[1,0]"
   ],
   "metadata": {
    "collapsed": false,
    "pycharm": {
     "name": "#%%\n"
    }
   }
  },
  {
   "cell_type": "code",
   "execution_count": 76,
   "outputs": [
    {
     "data": {
      "text/plain": "array([ 0,  1,  2,  3,  4, 64, 64, 64,  8,  9])"
     },
     "execution_count": 76,
     "metadata": {},
     "output_type": "execute_result"
    }
   ],
   "source": [
    "arr"
   ],
   "metadata": {
    "collapsed": false,
    "pycharm": {
     "name": "#%%\n"
    }
   }
  },
  {
   "cell_type": "code",
   "execution_count": 77,
   "outputs": [
    {
     "data": {
      "text/plain": "array([ 1,  2,  3,  4, 64])"
     },
     "execution_count": 77,
     "metadata": {},
     "output_type": "execute_result"
    }
   ],
   "source": [
    "arr[1:6]"
   ],
   "metadata": {
    "collapsed": false,
    "pycharm": {
     "name": "#%%\n"
    }
   }
  },
  {
   "cell_type": "code",
   "execution_count": 78,
   "outputs": [
    {
     "data": {
      "text/plain": "array([ 1,  2,  3,  4, 64])"
     },
     "execution_count": 78,
     "metadata": {},
     "output_type": "execute_result"
    }
   ],
   "source": [
    "arr[1:6]"
   ],
   "metadata": {
    "collapsed": false,
    "pycharm": {
     "name": "#%%\n"
    }
   }
  },
  {
   "cell_type": "code",
   "execution_count": 79,
   "outputs": [
    {
     "data": {
      "text/plain": "array([[1, 2, 3],\n       [4, 5, 6],\n       [7, 8, 9]])"
     },
     "execution_count": 79,
     "metadata": {},
     "output_type": "execute_result"
    }
   ],
   "source": [
    "arr2d"
   ],
   "metadata": {
    "collapsed": false,
    "pycharm": {
     "name": "#%%\n"
    }
   }
  },
  {
   "cell_type": "code",
   "execution_count": 80,
   "outputs": [
    {
     "data": {
      "text/plain": "array([[1, 2, 3],\n       [4, 5, 6]])"
     },
     "execution_count": 80,
     "metadata": {},
     "output_type": "execute_result"
    }
   ],
   "source": [
    "arr2d[:2]"
   ],
   "metadata": {
    "collapsed": false,
    "pycharm": {
     "name": "#%%\n"
    }
   }
  },
  {
   "cell_type": "code",
   "execution_count": 81,
   "outputs": [
    {
     "data": {
      "text/plain": "array([[2, 3],\n       [5, 6]])"
     },
     "execution_count": 81,
     "metadata": {},
     "output_type": "execute_result"
    }
   ],
   "source": [
    "arr2d[:2, 1:]"
   ],
   "metadata": {
    "collapsed": false,
    "pycharm": {
     "name": "#%%\n"
    }
   }
  },
  {
   "cell_type": "code",
   "execution_count": 82,
   "outputs": [
    {
     "data": {
      "text/plain": "array([3, 6])"
     },
     "execution_count": 82,
     "metadata": {},
     "output_type": "execute_result"
    }
   ],
   "source": [
    "arr2d[:2,2]"
   ],
   "metadata": {
    "collapsed": false,
    "pycharm": {
     "name": "#%%\n"
    }
   }
  },
  {
   "cell_type": "code",
   "execution_count": 83,
   "outputs": [],
   "source": [
    "arr2d[:2, 1:] = 0"
   ],
   "metadata": {
    "collapsed": false,
    "pycharm": {
     "name": "#%%\n"
    }
   }
  },
  {
   "cell_type": "code",
   "execution_count": 84,
   "outputs": [
    {
     "data": {
      "text/plain": "array([[1, 0, 0],\n       [4, 0, 0],\n       [7, 8, 9]])"
     },
     "execution_count": 84,
     "metadata": {},
     "output_type": "execute_result"
    }
   ],
   "source": [
    "arr2d"
   ],
   "metadata": {
    "collapsed": false,
    "pycharm": {
     "name": "#%%\n"
    }
   }
  },
  {
   "cell_type": "code",
   "execution_count": 85,
   "outputs": [],
   "source": [
    "names = np.array(['Bob', 'Joe', 'Will', 'Bob', 'Will', 'Joe', 'Joe'])"
   ],
   "metadata": {
    "collapsed": false,
    "pycharm": {
     "name": "#%%\n"
    }
   }
  },
  {
   "cell_type": "code",
   "execution_count": 86,
   "outputs": [],
   "source": [
    "data = np.random.randn(7,4)"
   ],
   "metadata": {
    "collapsed": false,
    "pycharm": {
     "name": "#%%\n"
    }
   }
  },
  {
   "cell_type": "code",
   "execution_count": 87,
   "outputs": [
    {
     "data": {
      "text/plain": "array(['Bob', 'Joe', 'Will', 'Bob', 'Will', 'Joe', 'Joe'], dtype='<U4')"
     },
     "execution_count": 87,
     "metadata": {},
     "output_type": "execute_result"
    }
   ],
   "source": [
    "names"
   ],
   "metadata": {
    "collapsed": false,
    "pycharm": {
     "name": "#%%\n"
    }
   }
  },
  {
   "cell_type": "code",
   "execution_count": 88,
   "outputs": [
    {
     "data": {
      "text/plain": "array([[-0.86348418,  0.34230571,  0.83779741, -1.57344764],\n       [ 0.35465962,  1.20928037, -1.24446482,  1.51687346],\n       [-0.92356439,  0.10582329,  1.25750207,  0.56676937],\n       [ 0.87507393, -1.08173876,  1.11606064, -0.53849301],\n       [-1.69327326,  1.02848212, -2.46824102, -0.63175527],\n       [-0.39558204, -1.00475305, -0.31966875,  0.37985208],\n       [ 0.65819594, -1.24780437, -1.5133844 , -1.0118804 ]])"
     },
     "execution_count": 88,
     "metadata": {},
     "output_type": "execute_result"
    }
   ],
   "source": [
    "data"
   ],
   "metadata": {
    "collapsed": false,
    "pycharm": {
     "name": "#%%\n"
    }
   }
  },
  {
   "cell_type": "code",
   "execution_count": 89,
   "outputs": [
    {
     "data": {
      "text/plain": "array([ True, False, False,  True, False, False, False])"
     },
     "execution_count": 89,
     "metadata": {},
     "output_type": "execute_result"
    }
   ],
   "source": [
    "names == 'Bob'"
   ],
   "metadata": {
    "collapsed": false,
    "pycharm": {
     "name": "#%%\n"
    }
   }
  },
  {
   "cell_type": "code",
   "execution_count": 90,
   "outputs": [
    {
     "data": {
      "text/plain": "array([False,  True, False, False, False,  True,  True])"
     },
     "execution_count": 90,
     "metadata": {},
     "output_type": "execute_result"
    }
   ],
   "source": [
    "names == 'Joe'"
   ],
   "metadata": {
    "collapsed": false,
    "pycharm": {
     "name": "#%%\n"
    }
   }
  },
  {
   "cell_type": "code",
   "execution_count": 91,
   "outputs": [
    {
     "data": {
      "text/plain": "array([[-0.86348418,  0.34230571,  0.83779741, -1.57344764],\n       [ 0.87507393, -1.08173876,  1.11606064, -0.53849301]])"
     },
     "execution_count": 91,
     "metadata": {},
     "output_type": "execute_result"
    }
   ],
   "source": [
    "data[names == 'Bob']"
   ],
   "metadata": {
    "collapsed": false,
    "pycharm": {
     "name": "#%%\n"
    }
   }
  },
  {
   "cell_type": "code",
   "execution_count": 92,
   "outputs": [
    {
     "data": {
      "text/plain": "array([[ 0.83779741, -1.57344764],\n       [ 1.11606064, -0.53849301]])"
     },
     "execution_count": 92,
     "metadata": {},
     "output_type": "execute_result"
    }
   ],
   "source": [
    "data[names == 'Bob',2:]    #从第二列开始"
   ],
   "metadata": {
    "collapsed": false,
    "pycharm": {
     "name": "#%%\n"
    }
   }
  },
  {
   "cell_type": "code",
   "execution_count": 93,
   "outputs": [
    {
     "data": {
      "text/plain": "array([-1.57344764, -0.53849301])"
     },
     "execution_count": 93,
     "metadata": {},
     "output_type": "execute_result"
    }
   ],
   "source": [
    "data[names == 'Bob',3]     #第三列"
   ],
   "metadata": {
    "collapsed": false,
    "pycharm": {
     "name": "#%%\n"
    }
   }
  },
  {
   "cell_type": "code",
   "execution_count": 94,
   "outputs": [
    {
     "data": {
      "text/plain": "array([False,  True,  True, False,  True,  True,  True])"
     },
     "execution_count": 94,
     "metadata": {},
     "output_type": "execute_result"
    }
   ],
   "source": [
    "names != 'Bob'"
   ],
   "metadata": {
    "collapsed": false,
    "pycharm": {
     "name": "#%%\n"
    }
   }
  },
  {
   "cell_type": "code",
   "execution_count": 95,
   "outputs": [
    {
     "data": {
      "text/plain": "array([[ 0.35465962,  1.20928037, -1.24446482,  1.51687346],\n       [-0.92356439,  0.10582329,  1.25750207,  0.56676937],\n       [-1.69327326,  1.02848212, -2.46824102, -0.63175527],\n       [-0.39558204, -1.00475305, -0.31966875,  0.37985208],\n       [ 0.65819594, -1.24780437, -1.5133844 , -1.0118804 ]])"
     },
     "execution_count": 95,
     "metadata": {},
     "output_type": "execute_result"
    }
   ],
   "source": [
    "data[~(names == 'Bob')]"
   ],
   "metadata": {
    "collapsed": false,
    "pycharm": {
     "name": "#%%\n"
    }
   }
  },
  {
   "cell_type": "code",
   "execution_count": 96,
   "outputs": [],
   "source": [
    "cond = names == 'Bob'"
   ],
   "metadata": {
    "collapsed": false,
    "pycharm": {
     "name": "#%%\n"
    }
   }
  },
  {
   "cell_type": "code",
   "execution_count": 97,
   "outputs": [
    {
     "data": {
      "text/plain": "array([ True, False, False,  True, False, False, False])"
     },
     "execution_count": 97,
     "metadata": {},
     "output_type": "execute_result"
    }
   ],
   "source": [
    "cond"
   ],
   "metadata": {
    "collapsed": false,
    "pycharm": {
     "name": "#%%\n"
    }
   }
  },
  {
   "cell_type": "code",
   "execution_count": 98,
   "outputs": [
    {
     "data": {
      "text/plain": "array([[ 0.35465962,  1.20928037, -1.24446482,  1.51687346],\n       [-0.92356439,  0.10582329,  1.25750207,  0.56676937],\n       [-1.69327326,  1.02848212, -2.46824102, -0.63175527],\n       [-0.39558204, -1.00475305, -0.31966875,  0.37985208],\n       [ 0.65819594, -1.24780437, -1.5133844 , -1.0118804 ]])"
     },
     "execution_count": 98,
     "metadata": {},
     "output_type": "execute_result"
    }
   ],
   "source": [
    "data[~cond]   #显示false对应的数值"
   ],
   "metadata": {
    "collapsed": false,
    "pycharm": {
     "name": "#%%\n"
    }
   }
  },
  {
   "cell_type": "code",
   "execution_count": 99,
   "outputs": [],
   "source": [
    "mask = (names == 'Bob') | (names == 'Will')"
   ],
   "metadata": {
    "collapsed": false,
    "pycharm": {
     "name": "#%%\n"
    }
   }
  },
  {
   "cell_type": "code",
   "execution_count": 100,
   "outputs": [
    {
     "data": {
      "text/plain": "array([ True, False,  True,  True,  True, False, False])"
     },
     "execution_count": 100,
     "metadata": {},
     "output_type": "execute_result"
    }
   ],
   "source": [
    "mask"
   ],
   "metadata": {
    "collapsed": false,
    "pycharm": {
     "name": "#%%\n"
    }
   }
  },
  {
   "cell_type": "code",
   "execution_count": 101,
   "outputs": [
    {
     "data": {
      "text/plain": "array([[-0.86348418,  0.34230571,  0.83779741, -1.57344764],\n       [-0.92356439,  0.10582329,  1.25750207,  0.56676937],\n       [ 0.87507393, -1.08173876,  1.11606064, -0.53849301],\n       [-1.69327326,  1.02848212, -2.46824102, -0.63175527]])"
     },
     "execution_count": 101,
     "metadata": {},
     "output_type": "execute_result"
    }
   ],
   "source": [
    "data[mask]"
   ],
   "metadata": {
    "collapsed": false,
    "pycharm": {
     "name": "#%%\n"
    }
   }
  },
  {
   "cell_type": "code",
   "execution_count": 102,
   "outputs": [],
   "source": [
    "data[data<0] = 0"
   ],
   "metadata": {
    "collapsed": false,
    "pycharm": {
     "name": "#%%\n"
    }
   }
  },
  {
   "cell_type": "code",
   "execution_count": 103,
   "outputs": [
    {
     "data": {
      "text/plain": "array([[0.        , 0.34230571, 0.83779741, 0.        ],\n       [0.35465962, 1.20928037, 0.        , 1.51687346],\n       [0.        , 0.10582329, 1.25750207, 0.56676937],\n       [0.87507393, 0.        , 1.11606064, 0.        ],\n       [0.        , 1.02848212, 0.        , 0.        ],\n       [0.        , 0.        , 0.        , 0.37985208],\n       [0.65819594, 0.        , 0.        , 0.        ]])"
     },
     "execution_count": 103,
     "metadata": {},
     "output_type": "execute_result"
    }
   ],
   "source": [
    "data"
   ],
   "metadata": {
    "collapsed": false,
    "pycharm": {
     "name": "#%%\n"
    }
   }
  },
  {
   "cell_type": "code",
   "execution_count": 104,
   "outputs": [],
   "source": [
    "data[names != 'Joe'] = 7"
   ],
   "metadata": {
    "collapsed": false,
    "pycharm": {
     "name": "#%%\n"
    }
   }
  },
  {
   "cell_type": "code",
   "execution_count": 105,
   "outputs": [
    {
     "data": {
      "text/plain": "array([[7.        , 7.        , 7.        , 7.        ],\n       [0.35465962, 1.20928037, 0.        , 1.51687346],\n       [7.        , 7.        , 7.        , 7.        ],\n       [7.        , 7.        , 7.        , 7.        ],\n       [7.        , 7.        , 7.        , 7.        ],\n       [0.        , 0.        , 0.        , 0.37985208],\n       [0.65819594, 0.        , 0.        , 0.        ]])"
     },
     "execution_count": 105,
     "metadata": {},
     "output_type": "execute_result"
    }
   ],
   "source": [
    "data"
   ],
   "metadata": {
    "collapsed": false,
    "pycharm": {
     "name": "#%%\n"
    }
   }
  },
  {
   "cell_type": "code",
   "execution_count": 106,
   "outputs": [],
   "source": [
    "arr = np.empty((8, 4))"
   ],
   "metadata": {
    "collapsed": false,
    "pycharm": {
     "name": "#%%\n"
    }
   }
  },
  {
   "cell_type": "code",
   "execution_count": 107,
   "outputs": [],
   "source": [
    "for i in range(arr.shape[0]) :\n",
    "    arr[i] = i"
   ],
   "metadata": {
    "collapsed": false,
    "pycharm": {
     "name": "#%%\n"
    }
   }
  },
  {
   "cell_type": "code",
   "execution_count": 108,
   "outputs": [
    {
     "data": {
      "text/plain": "array([[0., 0., 0., 0.],\n       [1., 1., 1., 1.],\n       [2., 2., 2., 2.],\n       [3., 3., 3., 3.],\n       [4., 4., 4., 4.],\n       [5., 5., 5., 5.],\n       [6., 6., 6., 6.],\n       [7., 7., 7., 7.]])"
     },
     "execution_count": 108,
     "metadata": {},
     "output_type": "execute_result"
    }
   ],
   "source": [
    "arr"
   ],
   "metadata": {
    "collapsed": false,
    "pycharm": {
     "name": "#%%\n"
    }
   }
  },
  {
   "cell_type": "code",
   "execution_count": 109,
   "outputs": [
    {
     "data": {
      "text/plain": "array([[4., 4., 4., 4.],\n       [3., 3., 3., 3.],\n       [0., 0., 0., 0.],\n       [6., 6., 6., 6.]])"
     },
     "execution_count": 109,
     "metadata": {},
     "output_type": "execute_result"
    }
   ],
   "source": [
    "arr[[4, 3, 0, 6]]      #选取4、3、0、6行"
   ],
   "metadata": {
    "collapsed": false,
    "pycharm": {
     "name": "#%%\n"
    }
   }
  },
  {
   "cell_type": "code",
   "execution_count": 110,
   "outputs": [
    {
     "data": {
      "text/plain": "array([[5., 5., 5., 5.],\n       [3., 3., 3., 3.],\n       [1., 1., 1., 1.]])"
     },
     "execution_count": 110,
     "metadata": {},
     "output_type": "execute_result"
    }
   ],
   "source": [
    "arr[[-3, -5, -7]]     #选取倒数第3、5、7行"
   ],
   "metadata": {
    "collapsed": false,
    "pycharm": {
     "name": "#%%\n"
    }
   }
  },
  {
   "cell_type": "code",
   "execution_count": 111,
   "outputs": [],
   "source": [
    "arr = np.arange(32).reshape((8,4))"
   ],
   "metadata": {
    "collapsed": false,
    "pycharm": {
     "name": "#%%\n"
    }
   }
  },
  {
   "cell_type": "code",
   "execution_count": 112,
   "outputs": [
    {
     "data": {
      "text/plain": "array([[ 0,  1,  2,  3],\n       [ 4,  5,  6,  7],\n       [ 8,  9, 10, 11],\n       [12, 13, 14, 15],\n       [16, 17, 18, 19],\n       [20, 21, 22, 23],\n       [24, 25, 26, 27],\n       [28, 29, 30, 31]])"
     },
     "execution_count": 112,
     "metadata": {},
     "output_type": "execute_result"
    }
   ],
   "source": [
    "arr"
   ],
   "metadata": {
    "collapsed": false,
    "pycharm": {
     "name": "#%%\n"
    }
   }
  },
  {
   "cell_type": "code",
   "execution_count": 113,
   "outputs": [
    {
     "data": {
      "text/plain": "array([ 4, 23, 29, 10])"
     },
     "execution_count": 113,
     "metadata": {},
     "output_type": "execute_result"
    }
   ],
   "source": [
    "arr[[1,5,7,2],[0,3,1,2]]   #找到(1,0),(5,3),(7,1),(2,2)的数值，返回一维数组"
   ],
   "metadata": {
    "collapsed": false,
    "pycharm": {
     "name": "#%%\n"
    }
   }
  },
  {
   "cell_type": "code",
   "execution_count": 114,
   "outputs": [
    {
     "data": {
      "text/plain": "array([[ 4,  7,  5,  6],\n       [20, 23, 21, 22],\n       [28, 31, 29, 30],\n       [ 8, 11,  9, 10]])"
     },
     "execution_count": 114,
     "metadata": {},
     "output_type": "execute_result"
    }
   ],
   "source": [
    "arr[[1, 5, 7, 2]][:, [0, 3, 1, 2]]"
   ],
   "metadata": {
    "collapsed": false,
    "pycharm": {
     "name": "#%%\n"
    }
   }
  },
  {
   "cell_type": "code",
   "execution_count": 115,
   "outputs": [],
   "source": [
    "arr = np.arange(15).reshape((3, 5))"
   ],
   "metadata": {
    "collapsed": false,
    "pycharm": {
     "name": "#%%\n"
    }
   }
  },
  {
   "cell_type": "code",
   "execution_count": 116,
   "outputs": [
    {
     "data": {
      "text/plain": "array([[ 0,  1,  2,  3,  4],\n       [ 5,  6,  7,  8,  9],\n       [10, 11, 12, 13, 14]])"
     },
     "execution_count": 116,
     "metadata": {},
     "output_type": "execute_result"
    }
   ],
   "source": [
    "arr"
   ],
   "metadata": {
    "collapsed": false,
    "pycharm": {
     "name": "#%%\n"
    }
   }
  },
  {
   "cell_type": "code",
   "execution_count": 117,
   "outputs": [
    {
     "data": {
      "text/plain": "array([[ 0,  5, 10],\n       [ 1,  6, 11],\n       [ 2,  7, 12],\n       [ 3,  8, 13],\n       [ 4,  9, 14]])"
     },
     "execution_count": 117,
     "metadata": {},
     "output_type": "execute_result"
    }
   ],
   "source": [
    "arr.T"
   ],
   "metadata": {
    "collapsed": false,
    "pycharm": {
     "name": "#%%\n"
    }
   }
  },
  {
   "cell_type": "code",
   "execution_count": 118,
   "outputs": [],
   "source": [
    "arr = np.random.randn(6,3)"
   ],
   "metadata": {
    "collapsed": false,
    "pycharm": {
     "name": "#%%\n"
    }
   }
  },
  {
   "cell_type": "code",
   "execution_count": 119,
   "outputs": [
    {
     "data": {
      "text/plain": "array([[ 0.55528996, -0.13851195,  0.7326348 ],\n       [-1.37280136,  0.64092688,  1.66802543],\n       [-0.41455201,  0.01537286, -0.89499861],\n       [ 1.10677789,  0.66977574, -0.13302113],\n       [ 0.85464322, -1.21570508, -0.02090398],\n       [ 0.42663168, -0.4064985 , -0.3279935 ]])"
     },
     "execution_count": 119,
     "metadata": {},
     "output_type": "execute_result"
    }
   ],
   "source": [
    "arr"
   ],
   "metadata": {
    "collapsed": false,
    "pycharm": {
     "name": "#%%\n"
    }
   }
  },
  {
   "cell_type": "code",
   "execution_count": 120,
   "outputs": [
    {
     "data": {
      "text/plain": "array([[ 4.5021708 , -1.4342787 , -1.81704207],\n       [-1.4342787 ,  2.52198858,  1.02349259],\n       [-1.81704207,  1.02349259,  4.24579645]])"
     },
     "execution_count": 120,
     "metadata": {},
     "output_type": "execute_result"
    }
   ],
   "source": [
    "np.dot(arr.T,arr)     #3*6 * 6*3"
   ],
   "metadata": {
    "collapsed": false,
    "pycharm": {
     "name": "#%%\n"
    }
   }
  },
  {
   "cell_type": "code",
   "execution_count": 126,
   "outputs": [],
   "source": [
    "arr = np.arange(24).reshape((2, 3, 4))"
   ],
   "metadata": {
    "collapsed": false,
    "pycharm": {
     "name": "#%%\n"
    }
   }
  },
  {
   "cell_type": "code",
   "execution_count": 127,
   "outputs": [
    {
     "data": {
      "text/plain": "array([[[ 0,  1,  2,  3],\n        [ 4,  5,  6,  7],\n        [ 8,  9, 10, 11]],\n\n       [[12, 13, 14, 15],\n        [16, 17, 18, 19],\n        [20, 21, 22, 23]]])"
     },
     "execution_count": 127,
     "metadata": {},
     "output_type": "execute_result"
    }
   ],
   "source": [
    "arr"
   ],
   "metadata": {
    "collapsed": false,
    "pycharm": {
     "name": "#%%\n"
    }
   }
  },
  {
   "cell_type": "code",
   "execution_count": 128,
   "outputs": [
    {
     "data": {
      "text/plain": "array([[[ 0,  1,  2,  3],\n        [12, 13, 14, 15]],\n\n       [[ 4,  5,  6,  7],\n        [16, 17, 18, 19]],\n\n       [[ 8,  9, 10, 11],\n        [20, 21, 22, 23]]])"
     },
     "execution_count": 128,
     "metadata": {},
     "output_type": "execute_result"
    }
   ],
   "source": [
    "arr.transpose((1,0,2))"
   ],
   "metadata": {
    "collapsed": false,
    "pycharm": {
     "name": "#%%\n"
    }
   }
  },
  {
   "cell_type": "code",
   "execution_count": 129,
   "outputs": [
    {
     "data": {
      "text/plain": "array([[[ 0,  1,  2,  3],\n        [ 4,  5,  6,  7],\n        [ 8,  9, 10, 11]],\n\n       [[12, 13, 14, 15],\n        [16, 17, 18, 19],\n        [20, 21, 22, 23]]])"
     },
     "execution_count": 129,
     "metadata": {},
     "output_type": "execute_result"
    }
   ],
   "source": [
    "arr"
   ],
   "metadata": {
    "collapsed": false,
    "pycharm": {
     "name": "#%%\n"
    }
   }
  },
  {
   "cell_type": "code",
   "execution_count": 130,
   "outputs": [
    {
     "data": {
      "text/plain": "array([[[ 0,  4,  8],\n        [ 1,  5,  9],\n        [ 2,  6, 10],\n        [ 3,  7, 11]],\n\n       [[12, 16, 20],\n        [13, 17, 21],\n        [14, 18, 22],\n        [15, 19, 23]]])"
     },
     "execution_count": 130,
     "metadata": {},
     "output_type": "execute_result"
    }
   ],
   "source": [
    "arr.swapaxes(1,2)"
   ],
   "metadata": {
    "collapsed": false,
    "pycharm": {
     "name": "#%%\n"
    }
   }
  },
  {
   "cell_type": "code",
   "execution_count": 131,
   "outputs": [],
   "source": [
    "arr = np.arange(10)"
   ],
   "metadata": {
    "collapsed": false,
    "pycharm": {
     "name": "#%%\n"
    }
   }
  },
  {
   "cell_type": "code",
   "execution_count": 132,
   "outputs": [
    {
     "data": {
      "text/plain": "array([0, 1, 2, 3, 4, 5, 6, 7, 8, 9])"
     },
     "execution_count": 132,
     "metadata": {},
     "output_type": "execute_result"
    }
   ],
   "source": [
    "arr"
   ],
   "metadata": {
    "collapsed": false,
    "pycharm": {
     "name": "#%%\n"
    }
   }
  },
  {
   "cell_type": "code",
   "execution_count": 134,
   "outputs": [
    {
     "data": {
      "text/plain": "array([0.        , 1.        , 1.41421356, 1.73205081, 2.        ,\n       2.23606798, 2.44948974, 2.64575131, 2.82842712, 3.        ])"
     },
     "execution_count": 134,
     "metadata": {},
     "output_type": "execute_result"
    }
   ],
   "source": [
    "np.sqrt(arr)"
   ],
   "metadata": {
    "collapsed": false,
    "pycharm": {
     "name": "#%%\n"
    }
   }
  },
  {
   "cell_type": "code",
   "execution_count": 135,
   "outputs": [
    {
     "data": {
      "text/plain": "array([1.00000000e+00, 2.71828183e+00, 7.38905610e+00, 2.00855369e+01,\n       5.45981500e+01, 1.48413159e+02, 4.03428793e+02, 1.09663316e+03,\n       2.98095799e+03, 8.10308393e+03])"
     },
     "execution_count": 135,
     "metadata": {},
     "output_type": "execute_result"
    }
   ],
   "source": [
    "np.exp(arr)"
   ],
   "metadata": {
    "collapsed": false,
    "pycharm": {
     "name": "#%%\n"
    }
   }
  },
  {
   "cell_type": "code",
   "execution_count": 136,
   "outputs": [],
   "source": [
    "x = np.random.randn(8)"
   ],
   "metadata": {
    "collapsed": false,
    "pycharm": {
     "name": "#%%\n"
    }
   }
  },
  {
   "cell_type": "code",
   "execution_count": 137,
   "outputs": [],
   "source": [
    "y = np.random.randn(8)"
   ],
   "metadata": {
    "collapsed": false,
    "pycharm": {
     "name": "#%%\n"
    }
   }
  },
  {
   "cell_type": "code",
   "execution_count": 138,
   "outputs": [
    {
     "data": {
      "text/plain": "array([-1.2323758 ,  0.52587116, -2.1621162 ,  0.47532772,  0.01239216,\n       -2.20387412, -0.5586766 , -0.30247054])"
     },
     "execution_count": 138,
     "metadata": {},
     "output_type": "execute_result"
    }
   ],
   "source": [
    "x"
   ],
   "metadata": {
    "collapsed": false,
    "pycharm": {
     "name": "#%%\n"
    }
   }
  },
  {
   "cell_type": "code",
   "execution_count": 139,
   "outputs": [
    {
     "data": {
      "text/plain": "array([ 0.92101427, -1.10243515,  0.00947067,  0.58263537, -1.23728084,\n       -0.52086943, -0.00523391,  2.07702876])"
     },
     "execution_count": 139,
     "metadata": {},
     "output_type": "execute_result"
    }
   ],
   "source": [
    "y"
   ],
   "metadata": {
    "collapsed": false,
    "pycharm": {
     "name": "#%%\n"
    }
   }
  },
  {
   "cell_type": "code",
   "execution_count": 140,
   "outputs": [
    {
     "data": {
      "text/plain": "array([ 0.92101427,  0.52587116,  0.00947067,  0.58263537,  0.01239216,\n       -0.52086943, -0.00523391,  2.07702876])"
     },
     "execution_count": 140,
     "metadata": {},
     "output_type": "execute_result"
    }
   ],
   "source": [
    "np.maximum(x,y)"
   ],
   "metadata": {
    "collapsed": false,
    "pycharm": {
     "name": "#%%\n"
    }
   }
  },
  {
   "cell_type": "code",
   "execution_count": 141,
   "outputs": [],
   "source": [
    "arr = np.random.randn(7) * 5"
   ],
   "metadata": {
    "collapsed": false,
    "pycharm": {
     "name": "#%%\n"
    }
   }
  },
  {
   "cell_type": "code",
   "execution_count": 142,
   "outputs": [
    {
     "data": {
      "text/plain": "array([11.70867431, -1.84818078, -1.58447827, -0.41524073,  3.57123146,\n        0.39051607, -4.35347841])"
     },
     "execution_count": 142,
     "metadata": {},
     "output_type": "execute_result"
    }
   ],
   "source": [
    "arr"
   ],
   "metadata": {
    "collapsed": false,
    "pycharm": {
     "name": "#%%\n"
    }
   }
  },
  {
   "cell_type": "code",
   "execution_count": 143,
   "outputs": [],
   "source": [
    "remainder, whole_part = np.modf(arr)"
   ],
   "metadata": {
    "collapsed": false,
    "pycharm": {
     "name": "#%%\n"
    }
   }
  },
  {
   "cell_type": "code",
   "execution_count": 144,
   "outputs": [
    {
     "data": {
      "text/plain": "array([ 0.70867431, -0.84818078, -0.58447827, -0.41524073,  0.57123146,\n        0.39051607, -0.35347841])"
     },
     "execution_count": 144,
     "metadata": {},
     "output_type": "execute_result"
    }
   ],
   "source": [
    "remainder"
   ],
   "metadata": {
    "collapsed": false,
    "pycharm": {
     "name": "#%%\n"
    }
   }
  },
  {
   "cell_type": "code",
   "execution_count": 145,
   "outputs": [
    {
     "data": {
      "text/plain": "array([11., -1., -1., -0.,  3.,  0., -4.])"
     },
     "execution_count": 145,
     "metadata": {},
     "output_type": "execute_result"
    }
   ],
   "source": [
    "whole_part"
   ],
   "metadata": {
    "collapsed": false,
    "pycharm": {
     "name": "#%%\n"
    }
   }
  },
  {
   "cell_type": "code",
   "execution_count": 150,
   "outputs": [],
   "source": [
    "points = np.arange(-5, 5, 0.01)     # -5~5共10，每一步0.01，共1000步"
   ],
   "metadata": {
    "collapsed": false,
    "pycharm": {
     "name": "#%%\n"
    }
   }
  },
  {
   "cell_type": "code",
   "execution_count": 151,
   "outputs": [
    {
     "data": {
      "text/plain": "array([-5.0000000e+00, -4.9900000e+00, -4.9800000e+00, -4.9700000e+00,\n       -4.9600000e+00, -4.9500000e+00, -4.9400000e+00, -4.9300000e+00,\n       -4.9200000e+00, -4.9100000e+00, -4.9000000e+00, -4.8900000e+00,\n       -4.8800000e+00, -4.8700000e+00, -4.8600000e+00, -4.8500000e+00,\n       -4.8400000e+00, -4.8300000e+00, -4.8200000e+00, -4.8100000e+00,\n       -4.8000000e+00, -4.7900000e+00, -4.7800000e+00, -4.7700000e+00,\n       -4.7600000e+00, -4.7500000e+00, -4.7400000e+00, -4.7300000e+00,\n       -4.7200000e+00, -4.7100000e+00, -4.7000000e+00, -4.6900000e+00,\n       -4.6800000e+00, -4.6700000e+00, -4.6600000e+00, -4.6500000e+00,\n       -4.6400000e+00, -4.6300000e+00, -4.6200000e+00, -4.6100000e+00,\n       -4.6000000e+00, -4.5900000e+00, -4.5800000e+00, -4.5700000e+00,\n       -4.5600000e+00, -4.5500000e+00, -4.5400000e+00, -4.5300000e+00,\n       -4.5200000e+00, -4.5100000e+00, -4.5000000e+00, -4.4900000e+00,\n       -4.4800000e+00, -4.4700000e+00, -4.4600000e+00, -4.4500000e+00,\n       -4.4400000e+00, -4.4300000e+00, -4.4200000e+00, -4.4100000e+00,\n       -4.4000000e+00, -4.3900000e+00, -4.3800000e+00, -4.3700000e+00,\n       -4.3600000e+00, -4.3500000e+00, -4.3400000e+00, -4.3300000e+00,\n       -4.3200000e+00, -4.3100000e+00, -4.3000000e+00, -4.2900000e+00,\n       -4.2800000e+00, -4.2700000e+00, -4.2600000e+00, -4.2500000e+00,\n       -4.2400000e+00, -4.2300000e+00, -4.2200000e+00, -4.2100000e+00,\n       -4.2000000e+00, -4.1900000e+00, -4.1800000e+00, -4.1700000e+00,\n       -4.1600000e+00, -4.1500000e+00, -4.1400000e+00, -4.1300000e+00,\n       -4.1200000e+00, -4.1100000e+00, -4.1000000e+00, -4.0900000e+00,\n       -4.0800000e+00, -4.0700000e+00, -4.0600000e+00, -4.0500000e+00,\n       -4.0400000e+00, -4.0300000e+00, -4.0200000e+00, -4.0100000e+00,\n       -4.0000000e+00, -3.9900000e+00, -3.9800000e+00, -3.9700000e+00,\n       -3.9600000e+00, -3.9500000e+00, -3.9400000e+00, -3.9300000e+00,\n       -3.9200000e+00, -3.9100000e+00, -3.9000000e+00, -3.8900000e+00,\n       -3.8800000e+00, -3.8700000e+00, -3.8600000e+00, -3.8500000e+00,\n       -3.8400000e+00, -3.8300000e+00, -3.8200000e+00, -3.8100000e+00,\n       -3.8000000e+00, -3.7900000e+00, -3.7800000e+00, -3.7700000e+00,\n       -3.7600000e+00, -3.7500000e+00, -3.7400000e+00, -3.7300000e+00,\n       -3.7200000e+00, -3.7100000e+00, -3.7000000e+00, -3.6900000e+00,\n       -3.6800000e+00, -3.6700000e+00, -3.6600000e+00, -3.6500000e+00,\n       -3.6400000e+00, -3.6300000e+00, -3.6200000e+00, -3.6100000e+00,\n       -3.6000000e+00, -3.5900000e+00, -3.5800000e+00, -3.5700000e+00,\n       -3.5600000e+00, -3.5500000e+00, -3.5400000e+00, -3.5300000e+00,\n       -3.5200000e+00, -3.5100000e+00, -3.5000000e+00, -3.4900000e+00,\n       -3.4800000e+00, -3.4700000e+00, -3.4600000e+00, -3.4500000e+00,\n       -3.4400000e+00, -3.4300000e+00, -3.4200000e+00, -3.4100000e+00,\n       -3.4000000e+00, -3.3900000e+00, -3.3800000e+00, -3.3700000e+00,\n       -3.3600000e+00, -3.3500000e+00, -3.3400000e+00, -3.3300000e+00,\n       -3.3200000e+00, -3.3100000e+00, -3.3000000e+00, -3.2900000e+00,\n       -3.2800000e+00, -3.2700000e+00, -3.2600000e+00, -3.2500000e+00,\n       -3.2400000e+00, -3.2300000e+00, -3.2200000e+00, -3.2100000e+00,\n       -3.2000000e+00, -3.1900000e+00, -3.1800000e+00, -3.1700000e+00,\n       -3.1600000e+00, -3.1500000e+00, -3.1400000e+00, -3.1300000e+00,\n       -3.1200000e+00, -3.1100000e+00, -3.1000000e+00, -3.0900000e+00,\n       -3.0800000e+00, -3.0700000e+00, -3.0600000e+00, -3.0500000e+00,\n       -3.0400000e+00, -3.0300000e+00, -3.0200000e+00, -3.0100000e+00,\n       -3.0000000e+00, -2.9900000e+00, -2.9800000e+00, -2.9700000e+00,\n       -2.9600000e+00, -2.9500000e+00, -2.9400000e+00, -2.9300000e+00,\n       -2.9200000e+00, -2.9100000e+00, -2.9000000e+00, -2.8900000e+00,\n       -2.8800000e+00, -2.8700000e+00, -2.8600000e+00, -2.8500000e+00,\n       -2.8400000e+00, -2.8300000e+00, -2.8200000e+00, -2.8100000e+00,\n       -2.8000000e+00, -2.7900000e+00, -2.7800000e+00, -2.7700000e+00,\n       -2.7600000e+00, -2.7500000e+00, -2.7400000e+00, -2.7300000e+00,\n       -2.7200000e+00, -2.7100000e+00, -2.7000000e+00, -2.6900000e+00,\n       -2.6800000e+00, -2.6700000e+00, -2.6600000e+00, -2.6500000e+00,\n       -2.6400000e+00, -2.6300000e+00, -2.6200000e+00, -2.6100000e+00,\n       -2.6000000e+00, -2.5900000e+00, -2.5800000e+00, -2.5700000e+00,\n       -2.5600000e+00, -2.5500000e+00, -2.5400000e+00, -2.5300000e+00,\n       -2.5200000e+00, -2.5100000e+00, -2.5000000e+00, -2.4900000e+00,\n       -2.4800000e+00, -2.4700000e+00, -2.4600000e+00, -2.4500000e+00,\n       -2.4400000e+00, -2.4300000e+00, -2.4200000e+00, -2.4100000e+00,\n       -2.4000000e+00, -2.3900000e+00, -2.3800000e+00, -2.3700000e+00,\n       -2.3600000e+00, -2.3500000e+00, -2.3400000e+00, -2.3300000e+00,\n       -2.3200000e+00, -2.3100000e+00, -2.3000000e+00, -2.2900000e+00,\n       -2.2800000e+00, -2.2700000e+00, -2.2600000e+00, -2.2500000e+00,\n       -2.2400000e+00, -2.2300000e+00, -2.2200000e+00, -2.2100000e+00,\n       -2.2000000e+00, -2.1900000e+00, -2.1800000e+00, -2.1700000e+00,\n       -2.1600000e+00, -2.1500000e+00, -2.1400000e+00, -2.1300000e+00,\n       -2.1200000e+00, -2.1100000e+00, -2.1000000e+00, -2.0900000e+00,\n       -2.0800000e+00, -2.0700000e+00, -2.0600000e+00, -2.0500000e+00,\n       -2.0400000e+00, -2.0300000e+00, -2.0200000e+00, -2.0100000e+00,\n       -2.0000000e+00, -1.9900000e+00, -1.9800000e+00, -1.9700000e+00,\n       -1.9600000e+00, -1.9500000e+00, -1.9400000e+00, -1.9300000e+00,\n       -1.9200000e+00, -1.9100000e+00, -1.9000000e+00, -1.8900000e+00,\n       -1.8800000e+00, -1.8700000e+00, -1.8600000e+00, -1.8500000e+00,\n       -1.8400000e+00, -1.8300000e+00, -1.8200000e+00, -1.8100000e+00,\n       -1.8000000e+00, -1.7900000e+00, -1.7800000e+00, -1.7700000e+00,\n       -1.7600000e+00, -1.7500000e+00, -1.7400000e+00, -1.7300000e+00,\n       -1.7200000e+00, -1.7100000e+00, -1.7000000e+00, -1.6900000e+00,\n       -1.6800000e+00, -1.6700000e+00, -1.6600000e+00, -1.6500000e+00,\n       -1.6400000e+00, -1.6300000e+00, -1.6200000e+00, -1.6100000e+00,\n       -1.6000000e+00, -1.5900000e+00, -1.5800000e+00, -1.5700000e+00,\n       -1.5600000e+00, -1.5500000e+00, -1.5400000e+00, -1.5300000e+00,\n       -1.5200000e+00, -1.5100000e+00, -1.5000000e+00, -1.4900000e+00,\n       -1.4800000e+00, -1.4700000e+00, -1.4600000e+00, -1.4500000e+00,\n       -1.4400000e+00, -1.4300000e+00, -1.4200000e+00, -1.4100000e+00,\n       -1.4000000e+00, -1.3900000e+00, -1.3800000e+00, -1.3700000e+00,\n       -1.3600000e+00, -1.3500000e+00, -1.3400000e+00, -1.3300000e+00,\n       -1.3200000e+00, -1.3100000e+00, -1.3000000e+00, -1.2900000e+00,\n       -1.2800000e+00, -1.2700000e+00, -1.2600000e+00, -1.2500000e+00,\n       -1.2400000e+00, -1.2300000e+00, -1.2200000e+00, -1.2100000e+00,\n       -1.2000000e+00, -1.1900000e+00, -1.1800000e+00, -1.1700000e+00,\n       -1.1600000e+00, -1.1500000e+00, -1.1400000e+00, -1.1300000e+00,\n       -1.1200000e+00, -1.1100000e+00, -1.1000000e+00, -1.0900000e+00,\n       -1.0800000e+00, -1.0700000e+00, -1.0600000e+00, -1.0500000e+00,\n       -1.0400000e+00, -1.0300000e+00, -1.0200000e+00, -1.0100000e+00,\n       -1.0000000e+00, -9.9000000e-01, -9.8000000e-01, -9.7000000e-01,\n       -9.6000000e-01, -9.5000000e-01, -9.4000000e-01, -9.3000000e-01,\n       -9.2000000e-01, -9.1000000e-01, -9.0000000e-01, -8.9000000e-01,\n       -8.8000000e-01, -8.7000000e-01, -8.6000000e-01, -8.5000000e-01,\n       -8.4000000e-01, -8.3000000e-01, -8.2000000e-01, -8.1000000e-01,\n       -8.0000000e-01, -7.9000000e-01, -7.8000000e-01, -7.7000000e-01,\n       -7.6000000e-01, -7.5000000e-01, -7.4000000e-01, -7.3000000e-01,\n       -7.2000000e-01, -7.1000000e-01, -7.0000000e-01, -6.9000000e-01,\n       -6.8000000e-01, -6.7000000e-01, -6.6000000e-01, -6.5000000e-01,\n       -6.4000000e-01, -6.3000000e-01, -6.2000000e-01, -6.1000000e-01,\n       -6.0000000e-01, -5.9000000e-01, -5.8000000e-01, -5.7000000e-01,\n       -5.6000000e-01, -5.5000000e-01, -5.4000000e-01, -5.3000000e-01,\n       -5.2000000e-01, -5.1000000e-01, -5.0000000e-01, -4.9000000e-01,\n       -4.8000000e-01, -4.7000000e-01, -4.6000000e-01, -4.5000000e-01,\n       -4.4000000e-01, -4.3000000e-01, -4.2000000e-01, -4.1000000e-01,\n       -4.0000000e-01, -3.9000000e-01, -3.8000000e-01, -3.7000000e-01,\n       -3.6000000e-01, -3.5000000e-01, -3.4000000e-01, -3.3000000e-01,\n       -3.2000000e-01, -3.1000000e-01, -3.0000000e-01, -2.9000000e-01,\n       -2.8000000e-01, -2.7000000e-01, -2.6000000e-01, -2.5000000e-01,\n       -2.4000000e-01, -2.3000000e-01, -2.2000000e-01, -2.1000000e-01,\n       -2.0000000e-01, -1.9000000e-01, -1.8000000e-01, -1.7000000e-01,\n       -1.6000000e-01, -1.5000000e-01, -1.4000000e-01, -1.3000000e-01,\n       -1.2000000e-01, -1.1000000e-01, -1.0000000e-01, -9.0000000e-02,\n       -8.0000000e-02, -7.0000000e-02, -6.0000000e-02, -5.0000000e-02,\n       -4.0000000e-02, -3.0000000e-02, -2.0000000e-02, -1.0000000e-02,\n       -1.0658141e-13,  1.0000000e-02,  2.0000000e-02,  3.0000000e-02,\n        4.0000000e-02,  5.0000000e-02,  6.0000000e-02,  7.0000000e-02,\n        8.0000000e-02,  9.0000000e-02,  1.0000000e-01,  1.1000000e-01,\n        1.2000000e-01,  1.3000000e-01,  1.4000000e-01,  1.5000000e-01,\n        1.6000000e-01,  1.7000000e-01,  1.8000000e-01,  1.9000000e-01,\n        2.0000000e-01,  2.1000000e-01,  2.2000000e-01,  2.3000000e-01,\n        2.4000000e-01,  2.5000000e-01,  2.6000000e-01,  2.7000000e-01,\n        2.8000000e-01,  2.9000000e-01,  3.0000000e-01,  3.1000000e-01,\n        3.2000000e-01,  3.3000000e-01,  3.4000000e-01,  3.5000000e-01,\n        3.6000000e-01,  3.7000000e-01,  3.8000000e-01,  3.9000000e-01,\n        4.0000000e-01,  4.1000000e-01,  4.2000000e-01,  4.3000000e-01,\n        4.4000000e-01,  4.5000000e-01,  4.6000000e-01,  4.7000000e-01,\n        4.8000000e-01,  4.9000000e-01,  5.0000000e-01,  5.1000000e-01,\n        5.2000000e-01,  5.3000000e-01,  5.4000000e-01,  5.5000000e-01,\n        5.6000000e-01,  5.7000000e-01,  5.8000000e-01,  5.9000000e-01,\n        6.0000000e-01,  6.1000000e-01,  6.2000000e-01,  6.3000000e-01,\n        6.4000000e-01,  6.5000000e-01,  6.6000000e-01,  6.7000000e-01,\n        6.8000000e-01,  6.9000000e-01,  7.0000000e-01,  7.1000000e-01,\n        7.2000000e-01,  7.3000000e-01,  7.4000000e-01,  7.5000000e-01,\n        7.6000000e-01,  7.7000000e-01,  7.8000000e-01,  7.9000000e-01,\n        8.0000000e-01,  8.1000000e-01,  8.2000000e-01,  8.3000000e-01,\n        8.4000000e-01,  8.5000000e-01,  8.6000000e-01,  8.7000000e-01,\n        8.8000000e-01,  8.9000000e-01,  9.0000000e-01,  9.1000000e-01,\n        9.2000000e-01,  9.3000000e-01,  9.4000000e-01,  9.5000000e-01,\n        9.6000000e-01,  9.7000000e-01,  9.8000000e-01,  9.9000000e-01,\n        1.0000000e+00,  1.0100000e+00,  1.0200000e+00,  1.0300000e+00,\n        1.0400000e+00,  1.0500000e+00,  1.0600000e+00,  1.0700000e+00,\n        1.0800000e+00,  1.0900000e+00,  1.1000000e+00,  1.1100000e+00,\n        1.1200000e+00,  1.1300000e+00,  1.1400000e+00,  1.1500000e+00,\n        1.1600000e+00,  1.1700000e+00,  1.1800000e+00,  1.1900000e+00,\n        1.2000000e+00,  1.2100000e+00,  1.2200000e+00,  1.2300000e+00,\n        1.2400000e+00,  1.2500000e+00,  1.2600000e+00,  1.2700000e+00,\n        1.2800000e+00,  1.2900000e+00,  1.3000000e+00,  1.3100000e+00,\n        1.3200000e+00,  1.3300000e+00,  1.3400000e+00,  1.3500000e+00,\n        1.3600000e+00,  1.3700000e+00,  1.3800000e+00,  1.3900000e+00,\n        1.4000000e+00,  1.4100000e+00,  1.4200000e+00,  1.4300000e+00,\n        1.4400000e+00,  1.4500000e+00,  1.4600000e+00,  1.4700000e+00,\n        1.4800000e+00,  1.4900000e+00,  1.5000000e+00,  1.5100000e+00,\n        1.5200000e+00,  1.5300000e+00,  1.5400000e+00,  1.5500000e+00,\n        1.5600000e+00,  1.5700000e+00,  1.5800000e+00,  1.5900000e+00,\n        1.6000000e+00,  1.6100000e+00,  1.6200000e+00,  1.6300000e+00,\n        1.6400000e+00,  1.6500000e+00,  1.6600000e+00,  1.6700000e+00,\n        1.6800000e+00,  1.6900000e+00,  1.7000000e+00,  1.7100000e+00,\n        1.7200000e+00,  1.7300000e+00,  1.7400000e+00,  1.7500000e+00,\n        1.7600000e+00,  1.7700000e+00,  1.7800000e+00,  1.7900000e+00,\n        1.8000000e+00,  1.8100000e+00,  1.8200000e+00,  1.8300000e+00,\n        1.8400000e+00,  1.8500000e+00,  1.8600000e+00,  1.8700000e+00,\n        1.8800000e+00,  1.8900000e+00,  1.9000000e+00,  1.9100000e+00,\n        1.9200000e+00,  1.9300000e+00,  1.9400000e+00,  1.9500000e+00,\n        1.9600000e+00,  1.9700000e+00,  1.9800000e+00,  1.9900000e+00,\n        2.0000000e+00,  2.0100000e+00,  2.0200000e+00,  2.0300000e+00,\n        2.0400000e+00,  2.0500000e+00,  2.0600000e+00,  2.0700000e+00,\n        2.0800000e+00,  2.0900000e+00,  2.1000000e+00,  2.1100000e+00,\n        2.1200000e+00,  2.1300000e+00,  2.1400000e+00,  2.1500000e+00,\n        2.1600000e+00,  2.1700000e+00,  2.1800000e+00,  2.1900000e+00,\n        2.2000000e+00,  2.2100000e+00,  2.2200000e+00,  2.2300000e+00,\n        2.2400000e+00,  2.2500000e+00,  2.2600000e+00,  2.2700000e+00,\n        2.2800000e+00,  2.2900000e+00,  2.3000000e+00,  2.3100000e+00,\n        2.3200000e+00,  2.3300000e+00,  2.3400000e+00,  2.3500000e+00,\n        2.3600000e+00,  2.3700000e+00,  2.3800000e+00,  2.3900000e+00,\n        2.4000000e+00,  2.4100000e+00,  2.4200000e+00,  2.4300000e+00,\n        2.4400000e+00,  2.4500000e+00,  2.4600000e+00,  2.4700000e+00,\n        2.4800000e+00,  2.4900000e+00,  2.5000000e+00,  2.5100000e+00,\n        2.5200000e+00,  2.5300000e+00,  2.5400000e+00,  2.5500000e+00,\n        2.5600000e+00,  2.5700000e+00,  2.5800000e+00,  2.5900000e+00,\n        2.6000000e+00,  2.6100000e+00,  2.6200000e+00,  2.6300000e+00,\n        2.6400000e+00,  2.6500000e+00,  2.6600000e+00,  2.6700000e+00,\n        2.6800000e+00,  2.6900000e+00,  2.7000000e+00,  2.7100000e+00,\n        2.7200000e+00,  2.7300000e+00,  2.7400000e+00,  2.7500000e+00,\n        2.7600000e+00,  2.7700000e+00,  2.7800000e+00,  2.7900000e+00,\n        2.8000000e+00,  2.8100000e+00,  2.8200000e+00,  2.8300000e+00,\n        2.8400000e+00,  2.8500000e+00,  2.8600000e+00,  2.8700000e+00,\n        2.8800000e+00,  2.8900000e+00,  2.9000000e+00,  2.9100000e+00,\n        2.9200000e+00,  2.9300000e+00,  2.9400000e+00,  2.9500000e+00,\n        2.9600000e+00,  2.9700000e+00,  2.9800000e+00,  2.9900000e+00,\n        3.0000000e+00,  3.0100000e+00,  3.0200000e+00,  3.0300000e+00,\n        3.0400000e+00,  3.0500000e+00,  3.0600000e+00,  3.0700000e+00,\n        3.0800000e+00,  3.0900000e+00,  3.1000000e+00,  3.1100000e+00,\n        3.1200000e+00,  3.1300000e+00,  3.1400000e+00,  3.1500000e+00,\n        3.1600000e+00,  3.1700000e+00,  3.1800000e+00,  3.1900000e+00,\n        3.2000000e+00,  3.2100000e+00,  3.2200000e+00,  3.2300000e+00,\n        3.2400000e+00,  3.2500000e+00,  3.2600000e+00,  3.2700000e+00,\n        3.2800000e+00,  3.2900000e+00,  3.3000000e+00,  3.3100000e+00,\n        3.3200000e+00,  3.3300000e+00,  3.3400000e+00,  3.3500000e+00,\n        3.3600000e+00,  3.3700000e+00,  3.3800000e+00,  3.3900000e+00,\n        3.4000000e+00,  3.4100000e+00,  3.4200000e+00,  3.4300000e+00,\n        3.4400000e+00,  3.4500000e+00,  3.4600000e+00,  3.4700000e+00,\n        3.4800000e+00,  3.4900000e+00,  3.5000000e+00,  3.5100000e+00,\n        3.5200000e+00,  3.5300000e+00,  3.5400000e+00,  3.5500000e+00,\n        3.5600000e+00,  3.5700000e+00,  3.5800000e+00,  3.5900000e+00,\n        3.6000000e+00,  3.6100000e+00,  3.6200000e+00,  3.6300000e+00,\n        3.6400000e+00,  3.6500000e+00,  3.6600000e+00,  3.6700000e+00,\n        3.6800000e+00,  3.6900000e+00,  3.7000000e+00,  3.7100000e+00,\n        3.7200000e+00,  3.7300000e+00,  3.7400000e+00,  3.7500000e+00,\n        3.7600000e+00,  3.7700000e+00,  3.7800000e+00,  3.7900000e+00,\n        3.8000000e+00,  3.8100000e+00,  3.8200000e+00,  3.8300000e+00,\n        3.8400000e+00,  3.8500000e+00,  3.8600000e+00,  3.8700000e+00,\n        3.8800000e+00,  3.8900000e+00,  3.9000000e+00,  3.9100000e+00,\n        3.9200000e+00,  3.9300000e+00,  3.9400000e+00,  3.9500000e+00,\n        3.9600000e+00,  3.9700000e+00,  3.9800000e+00,  3.9900000e+00,\n        4.0000000e+00,  4.0100000e+00,  4.0200000e+00,  4.0300000e+00,\n        4.0400000e+00,  4.0500000e+00,  4.0600000e+00,  4.0700000e+00,\n        4.0800000e+00,  4.0900000e+00,  4.1000000e+00,  4.1100000e+00,\n        4.1200000e+00,  4.1300000e+00,  4.1400000e+00,  4.1500000e+00,\n        4.1600000e+00,  4.1700000e+00,  4.1800000e+00,  4.1900000e+00,\n        4.2000000e+00,  4.2100000e+00,  4.2200000e+00,  4.2300000e+00,\n        4.2400000e+00,  4.2500000e+00,  4.2600000e+00,  4.2700000e+00,\n        4.2800000e+00,  4.2900000e+00,  4.3000000e+00,  4.3100000e+00,\n        4.3200000e+00,  4.3300000e+00,  4.3400000e+00,  4.3500000e+00,\n        4.3600000e+00,  4.3700000e+00,  4.3800000e+00,  4.3900000e+00,\n        4.4000000e+00,  4.4100000e+00,  4.4200000e+00,  4.4300000e+00,\n        4.4400000e+00,  4.4500000e+00,  4.4600000e+00,  4.4700000e+00,\n        4.4800000e+00,  4.4900000e+00,  4.5000000e+00,  4.5100000e+00,\n        4.5200000e+00,  4.5300000e+00,  4.5400000e+00,  4.5500000e+00,\n        4.5600000e+00,  4.5700000e+00,  4.5800000e+00,  4.5900000e+00,\n        4.6000000e+00,  4.6100000e+00,  4.6200000e+00,  4.6300000e+00,\n        4.6400000e+00,  4.6500000e+00,  4.6600000e+00,  4.6700000e+00,\n        4.6800000e+00,  4.6900000e+00,  4.7000000e+00,  4.7100000e+00,\n        4.7200000e+00,  4.7300000e+00,  4.7400000e+00,  4.7500000e+00,\n        4.7600000e+00,  4.7700000e+00,  4.7800000e+00,  4.7900000e+00,\n        4.8000000e+00,  4.8100000e+00,  4.8200000e+00,  4.8300000e+00,\n        4.8400000e+00,  4.8500000e+00,  4.8600000e+00,  4.8700000e+00,\n        4.8800000e+00,  4.8900000e+00,  4.9000000e+00,  4.9100000e+00,\n        4.9200000e+00,  4.9300000e+00,  4.9400000e+00,  4.9500000e+00,\n        4.9600000e+00,  4.9700000e+00,  4.9800000e+00,  4.9900000e+00])"
     },
     "execution_count": 151,
     "metadata": {},
     "output_type": "execute_result"
    }
   ],
   "source": [
    "points"
   ],
   "metadata": {
    "collapsed": false,
    "pycharm": {
     "name": "#%%\n"
    }
   }
  },
  {
   "cell_type": "code",
   "execution_count": 152,
   "outputs": [],
   "source": [
    "xs, ys = np.meshgrid(points, points)"
   ],
   "metadata": {
    "collapsed": false,
    "pycharm": {
     "name": "#%%\n"
    }
   }
  },
  {
   "cell_type": "code",
   "execution_count": 154,
   "outputs": [
    {
     "data": {
      "text/plain": "array([[-5.  , -4.99, -4.98, ...,  4.97,  4.98,  4.99],\n       [-5.  , -4.99, -4.98, ...,  4.97,  4.98,  4.99],\n       [-5.  , -4.99, -4.98, ...,  4.97,  4.98,  4.99],\n       ...,\n       [-5.  , -4.99, -4.98, ...,  4.97,  4.98,  4.99],\n       [-5.  , -4.99, -4.98, ...,  4.97,  4.98,  4.99],\n       [-5.  , -4.99, -4.98, ...,  4.97,  4.98,  4.99]])"
     },
     "execution_count": 154,
     "metadata": {},
     "output_type": "execute_result"
    }
   ],
   "source": [
    "xs"
   ],
   "metadata": {
    "collapsed": false,
    "pycharm": {
     "name": "#%%\n"
    }
   }
  },
  {
   "cell_type": "code",
   "execution_count": 153,
   "outputs": [
    {
     "data": {
      "text/plain": "array([[-5.  , -5.  , -5.  , ..., -5.  , -5.  , -5.  ],\n       [-4.99, -4.99, -4.99, ..., -4.99, -4.99, -4.99],\n       [-4.98, -4.98, -4.98, ..., -4.98, -4.98, -4.98],\n       ...,\n       [ 4.97,  4.97,  4.97, ...,  4.97,  4.97,  4.97],\n       [ 4.98,  4.98,  4.98, ...,  4.98,  4.98,  4.98],\n       [ 4.99,  4.99,  4.99, ...,  4.99,  4.99,  4.99]])"
     },
     "execution_count": 153,
     "metadata": {},
     "output_type": "execute_result"
    }
   ],
   "source": [
    "ys"
   ],
   "metadata": {
    "collapsed": false,
    "pycharm": {
     "name": "#%%\n"
    }
   }
  },
  {
   "cell_type": "code",
   "execution_count": 155,
   "outputs": [],
   "source": [
    "z = np.sqrt(xs ** 2 + ys ** 2)"
   ],
   "metadata": {
    "collapsed": false,
    "pycharm": {
     "name": "#%%\n"
    }
   }
  },
  {
   "cell_type": "code",
   "execution_count": 156,
   "outputs": [
    {
     "data": {
      "text/plain": "array([[7.07106781, 7.06400028, 7.05693985, ..., 7.04988652, 7.05693985,\n        7.06400028],\n       [7.06400028, 7.05692568, 7.04985815, ..., 7.04279774, 7.04985815,\n        7.05692568],\n       [7.05693985, 7.04985815, 7.04278354, ..., 7.03571603, 7.04278354,\n        7.04985815],\n       ...,\n       [7.04988652, 7.04279774, 7.03571603, ..., 7.0286414 , 7.03571603,\n        7.04279774],\n       [7.05693985, 7.04985815, 7.04278354, ..., 7.03571603, 7.04278354,\n        7.04985815],\n       [7.06400028, 7.05692568, 7.04985815, ..., 7.04279774, 7.04985815,\n        7.05692568]])"
     },
     "execution_count": 156,
     "metadata": {},
     "output_type": "execute_result"
    }
   ],
   "source": [
    "z"
   ],
   "metadata": {
    "collapsed": false,
    "pycharm": {
     "name": "#%%\n"
    }
   }
  },
  {
   "cell_type": "code",
   "execution_count": 162,
   "outputs": [],
   "source": [
    "import matplotlib.pyplot as plt"
   ],
   "metadata": {
    "collapsed": false,
    "pycharm": {
     "name": "#%%\n"
    }
   }
  },
  {
   "cell_type": "code",
   "execution_count": 163,
   "outputs": [
    {
     "data": {
      "text/plain": "Text(0.5, 1.0, 'Image plot of $\\\\sqrt{x^2 + y^2}$ for a grid of values')"
     },
     "execution_count": 163,
     "metadata": {},
     "output_type": "execute_result"
    },
    {
     "data": {
      "text/plain": "<Figure size 432x288 with 2 Axes>",
      "image/png": "[encoded data removed]"
     },
     "metadata": {
      "needs_background": "light"
     },
     "output_type": "display_data"
    }
   ],
   "source": [
    "plt.imshow(z, cmap=plt.cm.gray); plt.colorbar()\n",
    "plt.title(\"Image plot of $\\sqrt{x^2 + y^2}$ for a grid of values\")"
   ],
   "metadata": {
    "collapsed": false,
    "pycharm": {
     "name": "#%%\n"
    }
   }
  },
  {
   "cell_type": "code",
   "execution_count": 164,
   "outputs": [],
   "source": [
    "xarr = np.array([1.1, 1.2, 1.3, 1.4, 1.5])\n",
    "yarr = np.array([2.1, 2.2, 2.3, 2.4, 2.5])\n",
    "cond = np.array([True, False, True, True, False])"
   ],
   "metadata": {
    "collapsed": false,
    "pycharm": {
     "name": "#%%\n"
    }
   }
  },
  {
   "cell_type": "code",
   "execution_count": 165,
   "outputs": [
    {
     "data": {
      "text/plain": "[1.1, 2.2, 1.3, 1.4, 2.5]"
     },
     "execution_count": 165,
     "metadata": {},
     "output_type": "execute_result"
    }
   ],
   "source": [
    "result = [(x if c else y) for x, y, c in zip(xarr, yarr, cond)]\n",
    "result"
   ],
   "metadata": {
    "collapsed": false,
    "pycharm": {
     "name": "#%%\n"
    }
   }
  },
  {
   "cell_type": "code",
   "execution_count": 167,
   "outputs": [
    {
     "data": {
      "text/plain": "array([1.1, 2.2, 1.3, 1.4, 2.5])"
     },
     "execution_count": 167,
     "metadata": {},
     "output_type": "execute_result"
    }
   ],
   "source": [
    "result = np.where(cond, xarr, yarr)\n",
    "result"
   ],
   "metadata": {
    "collapsed": false,
    "pycharm": {
     "name": "#%%\n"
    }
   }
  },
  {
   "cell_type": "code",
   "execution_count": 169,
   "outputs": [
    {
     "data": {
      "text/plain": "array([[ 0.30451168, -0.03464711,  1.42534373, -0.94816036],\n       [-1.11139258,  0.84764955,  1.0843056 , -1.09671871],\n       [ 0.12939161, -0.89562131,  0.58855469, -0.40052786],\n       [-0.41068059, -0.06742208,  1.09605232,  0.36408044]])"
     },
     "execution_count": 169,
     "metadata": {},
     "output_type": "execute_result"
    }
   ],
   "source": [
    "arr = np.random.randn(4, 4)\n",
    "arr"
   ],
   "metadata": {
    "collapsed": false,
    "pycharm": {
     "name": "#%%\n"
    }
   }
  },
  {
   "cell_type": "code",
   "execution_count": 170,
   "outputs": [
    {
     "data": {
      "text/plain": "array([[ True, False,  True, False],\n       [False,  True,  True, False],\n       [ True, False,  True, False],\n       [False, False,  True,  True]])"
     },
     "execution_count": 170,
     "metadata": {},
     "output_type": "execute_result"
    }
   ],
   "source": [
    "arr > 0"
   ],
   "metadata": {
    "collapsed": false,
    "pycharm": {
     "name": "#%%\n"
    }
   }
  },
  {
   "cell_type": "code",
   "execution_count": 171,
   "outputs": [
    {
     "data": {
      "text/plain": "array([[ 2, -2,  2, -2],\n       [-2,  2,  2, -2],\n       [ 2, -2,  2, -2],\n       [-2, -2,  2,  2]])"
     },
     "execution_count": 171,
     "metadata": {},
     "output_type": "execute_result"
    }
   ],
   "source": [
    "np.where(arr>0, 2, -2)"
   ],
   "metadata": {
    "collapsed": false,
    "pycharm": {
     "name": "#%%\n"
    }
   }
  },
  {
   "cell_type": "code",
   "execution_count": 172,
   "outputs": [
    {
     "data": {
      "text/plain": "array([[ 2.        , -0.03464711,  2.        , -0.94816036],\n       [-1.11139258,  2.        ,  2.        , -1.09671871],\n       [ 2.        , -0.89562131,  2.        , -0.40052786],\n       [-0.41068059, -0.06742208,  2.        ,  2.        ]])"
     },
     "execution_count": 172,
     "metadata": {},
     "output_type": "execute_result"
    }
   ],
   "source": [
    "np.where(arr > 0, 2, arr)"
   ],
   "metadata": {
    "collapsed": false,
    "pycharm": {
     "name": "#%%\n"
    }
   }
  },
  {
   "cell_type": "code",
   "execution_count": null,
   "outputs": [],
   "source": [],
   "metadata": {
    "collapsed": false,
    "pycharm": {
     "name": "#%%\n"
    }
   }
  }
 ],
 "metadata": {
  "kernelspec": {
   "name": "py38",
   "language": "python",
   "display_name": "py38"
  },
  "language_info": {
   "codemirror_mode": {
    "name": "ipython",
    "version": 2
   },
   "file_extension": ".py",
   "mimetype": "text/x-python",
   "name": "python",
   "nbconvert_exporter": "python",
   "pygments_lexer": "ipython2",
   "version": "2.7.6"
  }
 },
 "nbformat": 4,
 "nbformat_minor": 0
}