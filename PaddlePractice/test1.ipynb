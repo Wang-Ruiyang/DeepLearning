{
 "cells": [
  {
   "cell_type": "code",
   "execution_count": 1,
   "metadata": {
    "collapsed": true,
    "pycharm": {
     "name": "#%%\n"
    }
   },
   "outputs": [
    {
     "name": "stdout",
     "output_type": "stream",
     "text": [
      "Collecting paddlenlp\n",
      "  Downloading paddlenlp-2.4.0-py3-none-any.whl (1.8 MB)\n",
      "     ---------------------------------------- 1.8/1.8 MB 1.2 MB/s eta 0:00:00\n",
      "Collecting datasets>=2.0.0\n",
      "  Downloading datasets-2.4.0-py3-none-any.whl (365 kB)\n",
      "     -------------------------------------- 365.7/365.7 kB 1.2 MB/s eta 0:00:00\n",
      "Collecting seqeval\n",
      "  Downloading seqeval-1.2.2.tar.gz (43 kB)\n",
      "     ---------------------------------------- 43.6/43.6 kB 2.2 MB/s eta 0:00:00\n",
      "  Preparing metadata (setup.py): started\n",
      "  Preparing metadata (setup.py): finished with status 'done'\n",
      "Requirement already satisfied: colorama in d:\\anaconda\\envs\\paddle\\lib\\site-packages (from paddlenlp) (0.4.5)\n",
      "Collecting colorlog\n",
      "  Downloading colorlog-6.7.0-py2.py3-none-any.whl (11 kB)\n",
      "Collecting paddlefsl\n",
      "  Downloading paddlefsl-1.1.0-py3-none-any.whl (101 kB)\n",
      "     -------------------------------------- 101.0/101.0 kB 1.4 MB/s eta 0:00:00\n",
      "Collecting multiprocess<=0.70.12.2\n",
      "  Downloading multiprocess-0.70.12.2-py38-none-any.whl (128 kB)\n",
      "     -------------------------------------- 128.3/128.3 kB 1.5 MB/s eta 0:00:00\n",
      "Collecting tqdm\n",
      "  Downloading tqdm-4.64.1-py2.py3-none-any.whl (78 kB)\n",
      "     ---------------------------------------- 78.5/78.5 kB 1.5 MB/s eta 0:00:00\n",
      "Collecting protobuf<=3.20.0,>=3.1.0\n",
      "  Downloading protobuf-3.20.0-cp38-cp38-win_amd64.whl (904 kB)\n",
      "     -------------------------------------- 904.4/904.4 kB 1.6 MB/s eta 0:00:00\n",
      "Collecting paddle2onnx\n",
      "  Downloading paddle2onnx-1.0.0-cp38-cp38-win_amd64.whl (1.6 MB)\n",
      "     ---------------------------------------- 1.6/1.6 MB 1.3 MB/s eta 0:00:00\n",
      "Collecting sentencepiece\n",
      "  Downloading sentencepiece-0.1.97-cp38-cp38-win_amd64.whl (1.1 MB)\n",
      "     ---------------------------------------- 1.1/1.1 MB 1.4 MB/s eta 0:00:00\n",
      "Collecting jieba\n",
      "  Downloading jieba-0.42.1.tar.gz (19.2 MB)\n",
      "     -------------------------------------- 19.2/19.2 MB 869.0 kB/s eta 0:00:00\n",
      "  Preparing metadata (setup.py): started\n",
      "  Preparing metadata (setup.py): finished with status 'done'\n",
      "Collecting dill<0.3.5\n",
      "  Downloading dill-0.3.4-py2.py3-none-any.whl (86 kB)\n",
      "     -------------------------------------- 86.9/86.9 kB 613.5 kB/s eta 0:00:00\n",
      "Collecting numpy>=1.17\n",
      "  Downloading numpy-1.23.2-cp38-cp38-win_amd64.whl (14.7 MB)\n",
      "     ---------------------------------------- 14.7/14.7 MB 2.9 MB/s eta 0:00:00\n",
      "Requirement already satisfied: packaging in d:\\anaconda\\envs\\paddle\\lib\\site-packages (from datasets>=2.0.0->paddlenlp) (21.3)\n",
      "Collecting huggingface-hub<1.0.0,>=0.1.0\n",
      "  Downloading huggingface_hub-0.9.1-py3-none-any.whl (120 kB)\n",
      "     -------------------------------------- 120.7/120.7 kB 6.9 MB/s eta 0:00:00\n",
      "Collecting fsspec[http]>=2021.11.1\n",
      "  Downloading fsspec-2022.8.2-py3-none-any.whl (140 kB)\n",
      "     -------------------------------------- 140.8/140.8 kB 4.1 MB/s eta 0:00:00\n",
      "Collecting responses<0.19\n",
      "  Downloading responses-0.18.0-py3-none-any.whl (38 kB)\n",
      "Collecting pyarrow>=6.0.0\n",
      "  Downloading pyarrow-9.0.0-cp38-cp38-win_amd64.whl (19.6 MB)\n",
      "     ---------------------------------------- 19.6/19.6 MB 7.6 MB/s eta 0:00:00\n",
      "Collecting aiohttp\n",
      "  Downloading aiohttp-3.8.1-cp38-cp38-win_amd64.whl (555 kB)\n",
      "     -------------------------------------- 556.0/556.0 kB 7.0 MB/s eta 0:00:00\n",
      "Collecting pandas\n",
      "  Downloading pandas-1.4.4-cp38-cp38-win_amd64.whl (10.6 MB)\n",
      "     ---------------------------------------- 10.6/10.6 MB 8.1 MB/s eta 0:00:00\n",
      "Collecting requests>=2.19.0\n",
      "  Downloading requests-2.28.1-py3-none-any.whl (62 kB)\n",
      "     ---------------------------------------- 62.8/62.8 kB 3.3 MB/s eta 0:00:00\n",
      "Collecting xxhash\n",
      "  Downloading xxhash-3.0.0-cp38-cp38-win_amd64.whl (29 kB)\n",
      "Requirement already satisfied: six in d:\\anaconda\\envs\\paddle\\lib\\site-packages (from paddle2onnx->paddlenlp) (1.16.0)\n",
      "Collecting scikit-learn>=0.21.3\n",
      "  Downloading scikit_learn-1.1.2-cp38-cp38-win_amd64.whl (7.3 MB)\n",
      "     ---------------------------------------- 7.3/7.3 MB 8.4 MB/s eta 0:00:00\n",
      "Collecting charset-normalizer<3.0,>=2.0\n",
      "  Downloading charset_normalizer-2.1.1-py3-none-any.whl (39 kB)\n",
      "Collecting frozenlist>=1.1.1\n",
      "  Downloading frozenlist-1.3.1-cp38-cp38-win_amd64.whl (34 kB)\n",
      "Requirement already satisfied: attrs>=17.3.0 in d:\\anaconda\\envs\\paddle\\lib\\site-packages (from aiohttp->datasets>=2.0.0->paddlenlp) (22.1.0)\n",
      "Collecting multidict<7.0,>=4.5\n",
      "  Downloading multidict-6.0.2-cp38-cp38-win_amd64.whl (28 kB)\n",
      "Collecting yarl<2.0,>=1.0\n",
      "  Downloading yarl-1.8.1-cp38-cp38-win_amd64.whl (56 kB)\n",
      "     ---------------------------------------- 56.8/56.8 kB 2.9 MB/s eta 0:00:00\n",
      "Collecting async-timeout<5.0,>=4.0.0a3\n",
      "  Downloading async_timeout-4.0.2-py3-none-any.whl (5.8 kB)\n",
      "Collecting aiosignal>=1.1.2\n",
      "  Downloading aiosignal-1.2.0-py3-none-any.whl (8.2 kB)\n",
      "Collecting pyyaml>=5.1\n",
      "  Downloading PyYAML-6.0-cp38-cp38-win_amd64.whl (155 kB)\n",
      "     -------------------------------------- 155.4/155.4 kB 9.1 MB/s eta 0:00:00\n",
      "Collecting filelock\n",
      "  Downloading filelock-3.8.0-py3-none-any.whl (10 kB)\n",
      "Collecting typing-extensions>=3.7.4.3\n",
      "  Using cached typing_extensions-4.3.0-py3-none-any.whl (25 kB)\n",
      "Requirement already satisfied: pyparsing!=3.0.5,>=2.0.2 in d:\\anaconda\\envs\\paddle\\lib\\site-packages (from packaging->datasets>=2.0.0->paddlenlp) (3.0.9)\n",
      "Collecting idna<4,>=2.5\n",
      "  Downloading idna-3.3-py3-none-any.whl (61 kB)\n",
      "     ---------------------------------------- 61.2/61.2 kB ? eta 0:00:00\n",
      "Collecting urllib3<1.27,>=1.21.1\n",
      "  Downloading urllib3-1.26.12-py2.py3-none-any.whl (140 kB)\n",
      "     -------------------------------------- 140.4/140.4 kB 8.1 MB/s eta 0:00:00\n",
      "Collecting certifi>=2017.4.17\n",
      "  Downloading certifi-2022.6.15-py3-none-any.whl (160 kB)\n",
      "     -------------------------------------- 160.2/160.2 kB 9.4 MB/s eta 0:00:00\n",
      "Collecting joblib>=1.0.0\n",
      "  Downloading joblib-1.1.0-py2.py3-none-any.whl (306 kB)\n",
      "     -------------------------------------- 307.0/307.0 kB 9.6 MB/s eta 0:00:00\n",
      "Collecting scipy>=1.3.2\n",
      "  Downloading scipy-1.9.1-cp38-cp38-win_amd64.whl (38.6 MB)\n",
      "     ---------------------------------------- 38.6/38.6 MB 6.8 MB/s eta 0:00:00\n",
      "Collecting threadpoolctl>=2.0.0\n",
      "  Downloading threadpoolctl-3.1.0-py3-none-any.whl (14 kB)\n",
      "Requirement already satisfied: python-dateutil>=2.8.1 in d:\\anaconda\\envs\\paddle\\lib\\site-packages (from pandas->datasets>=2.0.0->paddlenlp) (2.8.2)\n",
      "Collecting pytz>=2020.1\n",
      "  Downloading pytz-2022.2.1-py2.py3-none-any.whl (500 kB)\n",
      "     -------------------------------------- 500.6/500.6 kB 7.8 MB/s eta 0:00:00\n",
      "Building wheels for collected packages: jieba, seqeval\n",
      "  Building wheel for jieba (setup.py): started\n",
      "  Building wheel for jieba (setup.py): finished with status 'done'\n",
      "  Created wheel for jieba: filename=jieba-0.42.1-py3-none-any.whl size=19314459 sha256=7395b7ce84fd62f367a7cbc802669565d288f36ebb156ddc38c5383a3aeb0fed\n",
      "  Stored in directory: c:\\users\\wry\\appdata\\local\\pip\\cache\\wheels\\ca\\38\\d8\\dfdfe73bec1d12026b30cb7ce8da650f3f0ea2cf155ea018ae\n",
      "  Building wheel for seqeval (setup.py): started\n",
      "  Building wheel for seqeval (setup.py): finished with status 'done'\n",
      "  Created wheel for seqeval: filename=seqeval-1.2.2-py3-none-any.whl size=16165 sha256=5a741182156017c52d23e27f5f4b3f7ebc053f1cc0b9eb51192e8d0df641769e\n",
      "  Stored in directory: c:\\users\\wry\\appdata\\local\\pip\\cache\\wheels\\ad\\5c\\ba\\05fa33fa5855777b7d686e843ec07452f22a66a138e290e732\n",
      "Successfully built jieba seqeval\n",
      "Installing collected packages: sentencepiece, pytz, jieba, xxhash, urllib3, typing-extensions, tqdm, threadpoolctl, pyyaml, protobuf, paddle2onnx, numpy, multidict, joblib, idna, fsspec, frozenlist, filelock, dill, colorlog, charset-normalizer, certifi, async-timeout, yarl, scipy, requests, pyarrow, pandas, multiprocess, aiosignal, scikit-learn, responses, paddlefsl, huggingface-hub, aiohttp, seqeval, datasets, paddlenlp\n",
      "Successfully installed aiohttp-3.8.1 aiosignal-1.2.0 async-timeout-4.0.2 certifi-2022.6.15 charset-normalizer-2.1.1 colorlog-6.7.0 datasets-2.4.0 dill-0.3.4 filelock-3.8.0 frozenlist-1.3.1 fsspec-2022.8.2 huggingface-hub-0.9.1 idna-3.3 jieba-0.42.1 joblib-1.1.0 multidict-6.0.2 multiprocess-0.70.12.2 numpy-1.23.2 paddle2onnx-1.0.0 paddlefsl-1.1.0 paddlenlp-2.4.0 pandas-1.4.4 protobuf-3.20.0 pyarrow-9.0.0 pytz-2022.2.1 pyyaml-6.0 requests-2.28.1 responses-0.18.0 scikit-learn-1.1.2 scipy-1.9.1 sentencepiece-0.1.97 seqeval-1.2.2 threadpoolctl-3.1.0 tqdm-4.64.1 typing-extensions-4.3.0 urllib3-1.26.12 xxhash-3.0.0 yarl-1.8.1\n",
      "Collecting pypinyin\n",
      "  Downloading pypinyin-0.47.1-py2.py3-none-any.whl (1.4 MB)\n",
      "     ---------------------------------------- 1.4/1.4 MB 2.5 MB/s eta 0:00:00\n",
      "Installing collected packages: pypinyin\n",
      "Successfully installed pypinyin-0.47.1\n",
      "Collecting LAC\n",
      "  Downloading LAC-2.1.2.tar.gz (64.8 MB)\n",
      "     ---------------------------------------- 64.8/64.8 MB 5.4 MB/s eta 0:00:00\n",
      "  Preparing metadata (setup.py): started\n",
      "  Preparing metadata (setup.py): finished with status 'done'\n",
      "Collecting paddlepaddle>=1.6\n",
      "  Downloading paddlepaddle-2.3.2-cp38-cp38-win_amd64.whl (64.3 MB)\n",
      "     ---------------------------------------- 64.3/64.3 MB 6.1 MB/s eta 0:00:00\n",
      "Requirement already satisfied: protobuf<=3.20.0,>=3.1.0 in d:\\anaconda\\envs\\paddle\\lib\\site-packages (from paddlepaddle>=1.6->LAC) (3.20.0)\n",
      "Collecting astor\n",
      "  Downloading astor-0.8.1-py2.py3-none-any.whl (27 kB)\n",
      "Collecting Pillow\n",
      "  Downloading Pillow-9.2.0-cp38-cp38-win_amd64.whl (3.3 MB)\n",
      "     ---------------------------------------- 3.3/3.3 MB 8.0 MB/s eta 0:00:00\n",
      "Requirement already satisfied: numpy>=1.13 in d:\\anaconda\\envs\\paddle\\lib\\site-packages (from paddlepaddle>=1.6->LAC) (1.23.2)\n",
      "Requirement already satisfied: requests>=2.20.0 in d:\\anaconda\\envs\\paddle\\lib\\site-packages (from paddlepaddle>=1.6->LAC) (2.28.1)\n",
      "Requirement already satisfied: six in d:\\anaconda\\envs\\paddle\\lib\\site-packages (from paddlepaddle>=1.6->LAC) (1.16.0)\n",
      "Collecting opt-einsum==3.3.0\n",
      "  Downloading opt_einsum-3.3.0-py3-none-any.whl (65 kB)\n",
      "     ---------------------------------------- 65.5/65.5 kB ? eta 0:00:00\n",
      "Collecting paddle-bfloat==0.1.7\n",
      "  Downloading paddle_bfloat-0.1.7-cp38-cp38-win_amd64.whl (39 kB)\n",
      "Requirement already satisfied: decorator in d:\\anaconda\\envs\\paddle\\lib\\site-packages (from paddlepaddle>=1.6->LAC) (5.1.1)\n",
      "Requirement already satisfied: idna<4,>=2.5 in d:\\anaconda\\envs\\paddle\\lib\\site-packages (from requests>=2.20.0->paddlepaddle>=1.6->LAC) (3.3)\n",
      "Requirement already satisfied: charset-normalizer<3,>=2 in d:\\anaconda\\envs\\paddle\\lib\\site-packages (from requests>=2.20.0->paddlepaddle>=1.6->LAC) (2.1.1)\n",
      "Requirement already satisfied: urllib3<1.27,>=1.21.1 in d:\\anaconda\\envs\\paddle\\lib\\site-packages (from requests>=2.20.0->paddlepaddle>=1.6->LAC) (1.26.12)\n",
      "Requirement already satisfied: certifi>=2017.4.17 in d:\\anaconda\\envs\\paddle\\lib\\site-packages (from requests>=2.20.0->paddlepaddle>=1.6->LAC) (2022.6.15)\n",
      "Building wheels for collected packages: LAC\n",
      "  Building wheel for LAC (setup.py): started\n",
      "  Building wheel for LAC (setup.py): finished with status 'done'\n",
      "  Created wheel for LAC: filename=LAC-2.1.2-py2.py3-none-any.whl size=64814705 sha256=b3ba4b64be93248f3461500d80e04591466ab1713cd21e8edb2a6594865227db\n",
      "  Stored in directory: c:\\users\\wry\\appdata\\local\\pip\\cache\\wheels\\bd\\34\\7f\\d7dbfa4af608da51028be614bdef342f7b5bd4c4da12945c0e\n",
      "Successfully built LAC\n",
      "Installing collected packages: paddle-bfloat, Pillow, opt-einsum, astor, paddlepaddle, LAC\n",
      "Successfully installed LAC-2.1.2 Pillow-9.2.0 astor-0.8.1 opt-einsum-3.3.0 paddle-bfloat-0.1.7 paddlepaddle-2.3.2\n"
     ]
    }
   ],
   "source": [
    "!pip install --upgrade paddlenlp\n",
    "!pip install pypinyin\n",
    "!pip install LAC"
   ]
  },
  {
   "cell_type": "code",
   "execution_count": 2,
   "outputs": [
    {
     "name": "stderr",
     "output_type": "stream",
     "text": [
      "D:\\Anaconda\\envs\\paddle\\lib\\site-packages\\paddlenlp\\transformers\\image_utils.py:213: DeprecationWarning: BILINEAR is deprecated and will be removed in Pillow 10 (2023-07-01). Use Resampling.BILINEAR instead.\n",
      "  resample=Image.BILINEAR,\n",
      "D:\\Anaconda\\envs\\paddle\\lib\\site-packages\\paddlenlp\\transformers\\image_utils.py:379: DeprecationWarning: NEAREST is deprecated and will be removed in Pillow 10 (2023-07-01). Use Resampling.NEAREST or Dither.NONE instead.\n",
      "  resample=Image.NEAREST,\n",
      "D:\\Anaconda\\envs\\paddle\\lib\\site-packages\\paddlenlp\\transformers\\ernie_vil\\feature_extraction.py:65: DeprecationWarning: BICUBIC is deprecated and will be removed in Pillow 10 (2023-07-01). Use Resampling.BICUBIC instead.\n",
      "  resample=Image.BICUBIC,\n",
      "D:\\Anaconda\\envs\\paddle\\lib\\site-packages\\paddlenlp\\transformers\\clip\\feature_extraction.py:64: DeprecationWarning: BICUBIC is deprecated and will be removed in Pillow 10 (2023-07-01). Use Resampling.BICUBIC instead.\n",
      "  resample=Image.BICUBIC,\n"
     ]
    }
   ],
   "source": [
    "from pprint import pprint\n",
    "from paddlenlp import Taskflow"
   ],
   "metadata": {
    "collapsed": false,
    "pycharm": {
     "name": "#%%\n"
    }
   }
  },
  {
   "cell_type": "code",
   "execution_count": 3,
   "outputs": [
    {
     "name": "stderr",
     "output_type": "stream",
     "text": [
      "\u001B[32m[2022-09-06 19:58:26,469] [    INFO]\u001B[0m - Downloading model_state.pdparams from https://bj.bcebos.com/paddlenlp/taskflow/information_extraction/uie_base_v1.0/model_state.pdparams\u001B[0m\n",
      "100%|██████████| 450M/450M [02:00<00:00, 3.90MB/s]  \n",
      "\u001B[32m[2022-09-06 20:00:30,712] [    INFO]\u001B[0m - Downloading model_config.json from https://bj.bcebos.com/paddlenlp/taskflow/information_extraction/uie_base/model_config.json\u001B[0m\n",
      "100%|██████████| 377/377 [00:00<00:00, 94.2kB/s]\n",
      "\u001B[32m[2022-09-06 20:00:31,090] [    INFO]\u001B[0m - Downloading vocab.txt from https://bj.bcebos.com/paddlenlp/taskflow/information_extraction/uie_base/vocab.txt\u001B[0m\n",
      "100%|██████████| 182k/182k [00:00<00:00, 214kB/s] \n",
      "\u001B[32m[2022-09-06 20:00:32,366] [    INFO]\u001B[0m - Downloading special_tokens_map.json from https://bj.bcebos.com/paddlenlp/taskflow/information_extraction/uie_base/special_tokens_map.json\u001B[0m\n",
      "100%|██████████| 112/112 [00:00<00:00, 37.3kB/s]\n",
      "\u001B[32m[2022-09-06 20:00:32,686] [    INFO]\u001B[0m - Downloading tokenizer_config.json from https://bj.bcebos.com/paddlenlp/taskflow/information_extraction/uie_base/tokenizer_config.json\u001B[0m\n",
      "100%|██████████| 172/172 [00:00<00:00, 57.3kB/s]\n",
      "\u001B[32m[2022-09-06 20:00:33,007] [    INFO]\u001B[0m - We are using <class 'paddlenlp.transformers.ernie.tokenizer.ErnieTokenizer'> to load 'C:\\Users\\wry\\.paddlenlp\\taskflow\\information_extraction\\uie-base'.\u001B[0m\n",
      "\u001B[32m[2022-09-06 20:00:59,404] [    INFO]\u001B[0m - Converting to the inference model cost a little time.\u001B[0m\n",
      "\u001B[32m[2022-09-06 20:01:10,347] [    INFO]\u001B[0m - The inference model save in the path:C:\\Users\\wry\\.paddlenlp\\taskflow\\information_extraction\\uie-base\\static\\inference\u001B[0m\n"
     ]
    },
    {
     "name": "stdout",
     "output_type": "stream",
     "text": [
      "[{'时间': [{'end': 6,\n",
      "          'probability': 0.9857378532473966,\n",
      "          'start': 0,\n",
      "          'text': '2月8日上午'}],\n",
      "  '赛事名称': [{'end': 23,\n",
      "            'probability': 0.8503081103003893,\n",
      "            'start': 6,\n",
      "            'text': '北京冬奥会自由式滑雪女子大跳台决赛'}],\n",
      "  '选手': [{'end': 31,\n",
      "          'probability': 0.8981535684051067,\n",
      "          'start': 28,\n",
      "          'text': '谷爱凌'}]}]\n"
     ]
    }
   ],
   "source": [
    "schema = ['时间', '选手', '赛事名称'] # Define the schema for entity extraction\n",
    "ie = Taskflow('information_extraction', schema=schema)\n",
    "pprint(ie(\"2月8日上午北京冬奥会自由式滑雪女子大跳台决赛中中国选手谷爱凌以188.25分获得金牌！\"))"
   ],
   "metadata": {
    "collapsed": false,
    "pycharm": {
     "name": "#%%\n"
    }
   }
  },
  {
   "cell_type": "code",
   "execution_count": null,
   "outputs": [],
   "source": [],
   "metadata": {
    "collapsed": false,
    "pycharm": {
     "name": "#%%\n"
    }
   }
  }
 ],
 "metadata": {
  "kernelspec": {
   "display_name": "Python 3",
   "language": "python",
   "name": "python3"
  },
  "language_info": {
   "codemirror_mode": {
    "name": "ipython",
    "version": 2
   },
   "file_extension": ".py",
   "mimetype": "text/x-python",
   "name": "python",
   "nbconvert_exporter": "python",
   "pygments_lexer": "ipython2",
   "version": "2.7.6"
  }
 },
 "nbformat": 4,
 "nbformat_minor": 0
}